{
 "cells": [
  {
   "cell_type": "code",
   "execution_count": 1,
   "metadata": {
    "collapsed": true
   },
   "outputs": [],
   "source": [
    "import pandas as pd\n",
    "import numpy as np\n",
    "import matplotlib.pyplot as plt\n",
    "import seaborn as sns\n",
    "\n",
    "%matplotlib inline"
   ]
  },
  {
   "cell_type": "markdown",
   "metadata": {},
   "source": [
    "# 1. Linear regression with one variable"
   ]
  },
  {
   "cell_type": "markdown",
   "metadata": {},
   "source": [
    "<font size=3>\n",
    "&emsp;&emsp;In this part of this exercise, you will implement linear regression with one variable to predict profits for a food truck. Suppose you are the CEO of a restaurant franchise and are considering different cities for opening a new outlet. The chain already has trucks in various cities and you have data for profits and populations from the cities.    \n",
    "&emsp;&emsp;You would like to use this data to help you select which city to expand to next.    \n",
    "&emsp;&emsp;The file **ex1data1.txt** contains the dataset for our linear regression problem. The first column is the population of a city and the second column is the profit of a food trunk in that city. A negative value for profit indicates a loss.  \n",
    "</font>"
   ]
  },
  {
   "cell_type": "code",
   "execution_count": 2,
   "metadata": {
    "collapsed": false
   },
   "outputs": [
    {
     "data": {
      "text/html": [
       "<div>\n",
       "<table border=\"1\" class=\"dataframe\">\n",
       "  <thead>\n",
       "    <tr style=\"text-align: right;\">\n",
       "      <th></th>\n",
       "      <th>population</th>\n",
       "      <th>profit</th>\n",
       "    </tr>\n",
       "  </thead>\n",
       "  <tbody>\n",
       "    <tr>\n",
       "      <th>0</th>\n",
       "      <td>6.1101</td>\n",
       "      <td>17.5920</td>\n",
       "    </tr>\n",
       "    <tr>\n",
       "      <th>1</th>\n",
       "      <td>5.5277</td>\n",
       "      <td>9.1302</td>\n",
       "    </tr>\n",
       "    <tr>\n",
       "      <th>2</th>\n",
       "      <td>8.5186</td>\n",
       "      <td>13.6620</td>\n",
       "    </tr>\n",
       "    <tr>\n",
       "      <th>3</th>\n",
       "      <td>7.0032</td>\n",
       "      <td>11.8540</td>\n",
       "    </tr>\n",
       "    <tr>\n",
       "      <th>4</th>\n",
       "      <td>5.8598</td>\n",
       "      <td>6.8233</td>\n",
       "    </tr>\n",
       "  </tbody>\n",
       "</table>\n",
       "</div>"
      ],
      "text/plain": [
       "   population   profit\n",
       "0      6.1101  17.5920\n",
       "1      5.5277   9.1302\n",
       "2      8.5186  13.6620\n",
       "3      7.0032  11.8540\n",
       "4      5.8598   6.8233"
      ]
     },
     "execution_count": 2,
     "metadata": {},
     "output_type": "execute_result"
    }
   ],
   "source": [
    "#加载数据\n",
    "data = pd.read_csv('./ex1data1.txt', names=['population', 'profit'])\n",
    "data.head(5)"
   ]
  },
  {
   "cell_type": "code",
   "execution_count": 3,
   "metadata": {
    "collapsed": false
   },
   "outputs": [
    {
     "name": "stdout",
     "output_type": "stream",
     "text": [
      "<class 'pandas.core.frame.DataFrame'>\n",
      "RangeIndex: 97 entries, 0 to 96\n",
      "Data columns (total 2 columns):\n",
      "population    97 non-null float64\n",
      "profit        97 non-null float64\n",
      "dtypes: float64(2)\n",
      "memory usage: 1.6 KB\n"
     ]
    }
   ],
   "source": [
    "#查看数据基本信息\n",
    "data.info()"
   ]
  },
  {
   "cell_type": "markdown",
   "metadata": {},
   "source": [
    "## 1.1 Plotting the Data"
   ]
  },
  {
   "cell_type": "markdown",
   "metadata": {},
   "source": [
    "<font size=3>\n",
    "&emsp;&emsp;Before starting on any task, it is often useful to understand the data by visualizing it. Fot this dataset, you can use a scatter plot to visualize the data, since it has only two properties to plot (profit and population). (Many other problems that you will enconter in real life are multi-dimensional and can't be plotted on a 2-d plot.)\n",
    "</font>"
   ]
  },
  {
   "cell_type": "code",
   "execution_count": 4,
   "metadata": {
    "collapsed": false
   },
   "outputs": [
    {
     "data": {
      "text/plain": [
       "<matplotlib.figure.Figure at 0x7f66efd82278>"
      ]
     },
     "metadata": {},
     "output_type": "display_data"
    },
    {
     "data": {
      "image/png": "[encoded data removed]",
      "text/plain": [
       "<matplotlib.figure.Figure at 0x7f66efd82be0>"
      ]
     },
     "metadata": {},
     "output_type": "display_data"
    }
   ],
   "source": [
    "plt.figure(figsize=(12, 8))\n",
    "sns.lmplot('population', 'profit', data, size=6, fit_reg=False)\n",
    "plt.show()"
   ]
  },
  {
   "cell_type": "markdown",
   "metadata": {},
   "source": [
    "## 1.2 Gradient Descent"
   ]
  },
  {
   "cell_type": "markdown",
   "metadata": {},
   "source": [
    "<font size=3>\n",
    "&emsp;&emsp;In this part, you will fit the linear regression parameters **$\\theta$** to our dataset using gradient descent.\n",
    "</font>"
   ]
  },
  {
   "cell_type": "markdown",
   "metadata": {},
   "source": [
    "### 1.2.1 Update Equations"
   ]
  },
  {
   "cell_type": "markdown",
   "metadata": {},
   "source": [
    "<font size=3>\n",
    "&emsp;&emsp;The objective of linear regresion is to minimize the cost function **$$ J(\\theta) = \\frac{1}{2m}\\sum_{i=1}^{m}({h}_{\\theta }(x^{(i)})-y^{(i)})^{2}$$**\n",
    "</font>"
   ]
  },
  {
   "cell_type": "markdown",
   "metadata": {},
   "source": [
    "<font size=3>\n",
    "&emsp;&emsp;Where the hypothesis *${h}_{\\theta }{(x)}$* is given by the linear model **$${h}_{\\theta }{(x)}={\\theta }^{T}{x}={\\theta}_{0}+{\\theta}_{1}{x}_{1}$$**\n",
    "</font>"
   ]
  },
  {
   "cell_type": "markdown",
   "metadata": {
    "collapsed": true
   },
   "source": [
    "<font size=3>\n",
    "&emsp;&emsp;Recall that the parameters of your model are the ${\\theta }_{j}$ values. These are the values you will adjust to minimize cost $J({\\theta})$. One way to do this is to use the batch gradient descent algorithm. In batch gradient descent, each iteration performs the update $${\\theta}_{j}:={\\theta}_{j}-{\\alpha}\\frac{1}{m}\\sum_{i=1}^{m}({h}_{\\theta}({x}^{(i)})-{y}^{(i)}){x}^{(i)}_{j}{\\quad}(simultaneously\\ update\\  {\\theta}_{j}\\ for\\ all\\ j)$$.  \n",
    "&emsp;&emsp;With each step of gradient descent, your parameter {\\theta}_{j} come closer to the optimal values that achieve the lowest cost ${J(\\theta)}$.\n",
    "</font>"
   ]
  },
  {
   "cell_type": "markdown",
   "metadata": {},
   "source": [
    "### 1.2.2 Implementation"
   ]
  },
  {
   "cell_type": "markdown",
   "metadata": {},
   "source": [
    "<font size=3>\n",
    "&emsp;&emsp;Now, we add another dimension to our data to accommodate the ${\\theta}_{0}$ intercept term. We also initialize the initial parameters to 0 and the learning rate **alpha** to 0.01.\n",
    "</font>"
   ]
  },
  {
   "cell_type": "code",
   "execution_count": 5,
   "metadata": {
    "collapsed": true
   },
   "outputs": [],
   "source": [
    "def loadData(df):\n",
    "    # ones 为m行1列的dataframe\n",
    "    ones = pd.DataFrame({'ones': np.ones(len(df))})\n",
    "    data = pd.concat([ones, df], axis=1)\n",
    "    X = np.matrix(data.iloc[:, :-1])\n",
    "    y = np.matrix(data.iloc[:, -1]).reshape(-1,1)\n",
    "    return X, y"
   ]
  },
  {
   "cell_type": "code",
   "execution_count": 6,
   "metadata": {
    "collapsed": true
   },
   "outputs": [],
   "source": [
    "def initializeWithZeros(dim):\n",
    "    return np.zeros((dim, 1))"
   ]
  },
  {
   "cell_type": "code",
   "execution_count": 7,
   "metadata": {
    "collapsed": false
   },
   "outputs": [],
   "source": [
    "X, y = loadData(data)\n",
    "theta = initializeWithZeros(X.shape[1])\n",
    "alpha = 0.01"
   ]
  },
  {
   "cell_type": "markdown",
   "metadata": {},
   "source": [
    "### 1.2.3 Computing the cost $J({\\theta})$"
   ]
  },
  {
   "cell_type": "markdown",
   "metadata": {},
   "source": [
    "<font size=3>\n",
    "&emsp;&emsp;As you perform gradient descent to learn minimize the cost function $J(\\theta)$, it is helpful to monitor the convergence by computing the cost. In this section, you will implement a function to calculate $J(\\theta)$ so you can check the convergence of your gradient descent implementation.  \n",
    "&emsp;&emsp;You shoule expect to see a cost of 32.07.\n",
    "</font>"
   ]
  },
  {
   "cell_type": "code",
   "execution_count": 8,
   "metadata": {
    "collapsed": false
   },
   "outputs": [],
   "source": [
    "def computeCost(X, y, theta):\n",
    "    m = X.shape[0]\n",
    "    return np.sum(np.power(X @ theta - y, 2)) / (2*m)"
   ]
  },
  {
   "cell_type": "code",
   "execution_count": 9,
   "metadata": {
    "collapsed": false
   },
   "outputs": [
    {
     "data": {
      "text/plain": [
       "32.072733877455676"
      ]
     },
     "execution_count": 9,
     "metadata": {},
     "output_type": "execute_result"
    }
   ],
   "source": [
    "cost = computeCost(X, y, theta)\n",
    "cost"
   ]
  },
  {
   "cell_type": "markdown",
   "metadata": {},
   "source": [
    "### 1.2.4 Gradient descent"
   ]
  },
  {
   "cell_type": "markdown",
   "metadata": {},
   "source": [
    "<font size=3>\n",
    "&emsp;&emsp;Next, you will implement gradient descent. As you program, make sure you understand what you are trying to optimize and what is being updated. Keep in mind that the cost $J{(\\theta)}$ is parameterized by the vector ${\\theta}$, not X and y. That is, we minimize the value of $J{(\\theta)}$ by changing the values of the vactor ${\\theta}$, not by changing X or y.  \n",
    "&emsp;&emsp;A good way to verify that gradient descent is working correctly is to look at the value of $J{(\\theta)}$ and check that it is decreasing with each step. The function *gradientDescent()* calls *computeCost()* on evert iteration and prints the cost. Assuming you have implemented gradient descent and *computeCost()* correctly, your value of $J{(\\theta)}$ should never increase, and should converge to a stead value by the end of the algorithm.  \n",
    "</font> "
   ]
  },
  {
   "cell_type": "code",
   "execution_count": 10,
   "metadata": {
    "collapsed": false
   },
   "outputs": [],
   "source": [
    "def batchGradientDescent_2(X, y, theta, alpha, iters, printFlag=True):\n",
    "    # 这个临时变量是必须的\n",
    "    temp = np.matrix(np.zeros(theta.shape))\n",
    "    # 计算参数的个数\n",
    "    parameters_num = theta.shape[0]\n",
    "    # 记录每轮迭代损失函数的大小\n",
    "    cost = np.zeros(iters)\n",
    "    # 计算训练数据的样本数\n",
    "    m = X.shape[0]\n",
    "    \n",
    "    for i in range(iters):\n",
    "        error = X @ theta - y\n",
    "        \n",
    "        for j in range(parameters_num):\n",
    "            term = np.multiply(error, X[:, j])\n",
    "            temp[j, 0] = theta[j, 0] - (alpha  / m) * np.sum(term)\n",
    "            \n",
    "        theta = temp\n",
    "        cost[i] = computeCost(X, y, theta)\n",
    "        \n",
    "        # 每50轮打印一次损失函数的值\n",
    "        if printFlag and i % 50 == 0:\n",
    "            print('第{iters}轮:{cost}'.format(iters=i, cost=cost[i]))\n",
    "            \n",
    "    return theta, cost"
   ]
  },
  {
   "cell_type": "markdown",
   "metadata": {},
   "source": [
    "<font size=3>\n",
    "&emsp;&emsp;上面所写的梯度下降法还可以进行优化，可以去掉第二层for循环，改用向量计算的方法。这样能够提高程序运行的速度。\n",
    "</font>"
   ]
  },
  {
   "cell_type": "code",
   "execution_count": 11,
   "metadata": {
    "collapsed": true
   },
   "outputs": [],
   "source": [
    "def batchGradientDescent(X, y, theta, alpha, iters, printFlag=True):\n",
    "    \n",
    "    m = X.shape[0]\n",
    "    cost = np.zeros(iters)\n",
    "    \n",
    "    for i in range(iters):\n",
    "        grad = np.dot(X.T, X @ theta - y) / m\n",
    "        theta = theta - alpha * grad\n",
    "        cost[i] = computeCost(X, y, theta)\n",
    "    \n",
    "        if printFlag and i % 50 == 0:\n",
    "            print('第{iters}轮:{cost}'.format(iters=i, cost=cost[i]))\n",
    "    \n",
    "    return theta, cost"
   ]
  },
  {
   "cell_type": "markdown",
   "metadata": {},
   "source": [
    "<font size=3>\n",
    "对参数进行初始化：参数theta、学习速率α、迭代次数iters\n",
    "</font>"
   ]
  },
  {
   "cell_type": "code",
   "execution_count": 12,
   "metadata": {
    "collapsed": false
   },
   "outputs": [
    {
     "name": "stdout",
     "output_type": "stream",
     "text": [
      "第0轮:6.737190464870009\n",
      "第50轮:5.673965480401505\n",
      "第100轮:5.476362817272741\n",
      "第150轮:5.311380876611356\n",
      "第200轮:5.173634551165022\n",
      "第250轮:5.05862772012701\n",
      "第300轮:4.962606493117519\n",
      "第350轮:4.88243668100122\n",
      "第400轮:4.815501494116686\n",
      "第450轮:4.7596161287279255\n"
     ]
    }
   ],
   "source": [
    "alpha = 0.01\n",
    "iters = 500\n",
    "theta = initializeWithZeros(X.shape[1])\n",
    "theta, cost = batchGradientDescent(X, y, theta, alpha, iters)"
   ]
  },
  {
   "cell_type": "markdown",
   "metadata": {},
   "source": [
    "<font size=3>\n",
    "绘制拟合曲线，对训练结果进行可视化\n",
    "</font>"
   ]
  },
  {
   "cell_type": "code",
   "execution_count": 13,
   "metadata": {
    "collapsed": false
   },
   "outputs": [
    {
     "data": {
      "image/png": "[encoded data removed]",
      "text/plain": [
       "<matplotlib.figure.Figure at 0x7f66ec9a3ef0>"
      ]
     },
     "metadata": {},
     "output_type": "display_data"
    }
   ],
   "source": [
    "x = np.linspace(data['population'].min(), data['population'].max(), 100)\n",
    "y = theta[0, 0] + theta[1, 0] * x\n",
    "\n",
    "plt.figure(figsize=(12, 8))\n",
    "plt.plot(x, y, color='red', label='Prediction')\n",
    "plt.scatter(data['population'], data['profit'], label='Traning data')\n",
    "plt.legend()\n",
    "plt.xlabel('Population')\n",
    "plt.ylabel('Profit')\n",
    "plt.title('Predicted Profit vs. Population Size')\n",
    "plt.show()"
   ]
  },
  {
   "cell_type": "markdown",
   "metadata": {},
   "source": [
    "## 1.3 Visualizing $J{(\\theta)}$"
   ]
  },
  {
   "cell_type": "markdown",
   "metadata": {},
   "source": [
    "<font size=3>\n",
    "&emsp;&emsp;通过绘制损失函数的变化趋势，可以使我们更好地理解损失函数。\n",
    "</font>"
   ]
  },
  {
   "cell_type": "code",
   "execution_count": 14,
   "metadata": {
    "collapsed": false
   },
   "outputs": [
    {
     "data": {
      "image/png": "[encoded data removed]",
      "text/plain": [
       "<matplotlib.figure.Figure at 0x7f66ec6eaa90>"
      ]
     },
     "metadata": {},
     "output_type": "display_data"
    }
   ],
   "source": [
    "plt.figure(figsize=(12, 8))\n",
    "plt.plot(np.arange(iters), cost, color='red')\n",
    "plt.xlabel('Iterations')\n",
    "plt.ylabel('Cost')\n",
    "plt.title('Error vs. Training Epoch')\n",
    "plt.show()"
   ]
  },
  {
   "cell_type": "markdown",
   "metadata": {},
   "source": [
    "# 2. Linear regression with multiple variables"
   ]
  },
  {
   "cell_type": "markdown",
   "metadata": {},
   "source": [
    "<font size=3>\n",
    "&emsp;&emsp;In this part, you will implement linear regression with multiple variables to predict the prices of houses. Suppose you are selling your house and you want to know what a good market price would be. One way to do this is to first collect information on recent houses  sold and make a model of housing prices.  \n",
    "&emsp;&emsp;The file **ex1data2.txt** contains a training set of housing prices in Portland, Oregon. The first column is the size of the house (in square feet), the second column is the number of bedrooms, and the third column is the price of the house.\n",
    "</font>"
   ]
  },
  {
   "cell_type": "code",
   "execution_count": 15,
   "metadata": {
    "collapsed": false
   },
   "outputs": [
    {
     "data": {
      "text/html": [
       "<div>\n",
       "<table border=\"1\" class=\"dataframe\">\n",
       "  <thead>\n",
       "    <tr style=\"text-align: right;\">\n",
       "      <th></th>\n",
       "      <th>size</th>\n",
       "      <th>bedrooms</th>\n",
       "      <th>price</th>\n",
       "    </tr>\n",
       "  </thead>\n",
       "  <tbody>\n",
       "    <tr>\n",
       "      <th>0</th>\n",
       "      <td>2104</td>\n",
       "      <td>3</td>\n",
       "      <td>399900</td>\n",
       "    </tr>\n",
       "    <tr>\n",
       "      <th>1</th>\n",
       "      <td>1600</td>\n",
       "      <td>3</td>\n",
       "      <td>329900</td>\n",
       "    </tr>\n",
       "    <tr>\n",
       "      <th>2</th>\n",
       "      <td>2400</td>\n",
       "      <td>3</td>\n",
       "      <td>369000</td>\n",
       "    </tr>\n",
       "    <tr>\n",
       "      <th>3</th>\n",
       "      <td>1416</td>\n",
       "      <td>2</td>\n",
       "      <td>232000</td>\n",
       "    </tr>\n",
       "    <tr>\n",
       "      <th>4</th>\n",
       "      <td>3000</td>\n",
       "      <td>4</td>\n",
       "      <td>539900</td>\n",
       "    </tr>\n",
       "  </tbody>\n",
       "</table>\n",
       "</div>"
      ],
      "text/plain": [
       "   size  bedrooms   price\n",
       "0  2104         3  399900\n",
       "1  1600         3  329900\n",
       "2  2400         3  369000\n",
       "3  1416         2  232000\n",
       "4  3000         4  539900"
      ]
     },
     "execution_count": 15,
     "metadata": {},
     "output_type": "execute_result"
    }
   ],
   "source": [
    "data = pd.read_csv('./ex1data2.txt', names=['size', 'bedrooms', 'price'])\n",
    "data.head()"
   ]
  },
  {
   "cell_type": "markdown",
   "metadata": {},
   "source": [
    "## 2.1 Feature scaling"
   ]
  },
  {
   "cell_type": "markdown",
   "metadata": {},
   "source": [
    "<font size=3>\n",
    "&emsp;&emsp;Note that house sizes are about 1000 times the number of bedrooms. When features differ by orders of magnitude, first performing feature scaling can make gradient descent converge much more quickly.\n",
    "</font>"
   ]
  },
  {
   "cell_type": "markdown",
   "metadata": {},
   "source": [
    "<font size=3>\n",
    "&emsp;&emsp;特征归一化有两种方法：一个是标准化（减均值除标准差），另一个是最大-最小值归一化。\n",
    "</font>"
   ]
  },
  {
   "cell_type": "code",
   "execution_count": 16,
   "metadata": {
    "collapsed": true
   },
   "outputs": [],
   "source": [
    "def normalizeFeatures(df):\n",
    "    return df.apply(lambda column: (column - column.mean()) / column.std())"
   ]
  },
  {
   "cell_type": "code",
   "execution_count": 17,
   "metadata": {
    "collapsed": false
   },
   "outputs": [
    {
     "data": {
      "text/html": [
       "<div>\n",
       "<table border=\"1\" class=\"dataframe\">\n",
       "  <thead>\n",
       "    <tr style=\"text-align: right;\">\n",
       "      <th></th>\n",
       "      <th>size</th>\n",
       "      <th>bedrooms</th>\n",
       "      <th>price</th>\n",
       "    </tr>\n",
       "  </thead>\n",
       "  <tbody>\n",
       "    <tr>\n",
       "      <th>0</th>\n",
       "      <td>0.130010</td>\n",
       "      <td>-0.223675</td>\n",
       "      <td>0.475747</td>\n",
       "    </tr>\n",
       "    <tr>\n",
       "      <th>1</th>\n",
       "      <td>-0.504190</td>\n",
       "      <td>-0.223675</td>\n",
       "      <td>-0.084074</td>\n",
       "    </tr>\n",
       "    <tr>\n",
       "      <th>2</th>\n",
       "      <td>0.502476</td>\n",
       "      <td>-0.223675</td>\n",
       "      <td>0.228626</td>\n",
       "    </tr>\n",
       "    <tr>\n",
       "      <th>3</th>\n",
       "      <td>-0.735723</td>\n",
       "      <td>-1.537767</td>\n",
       "      <td>-0.867025</td>\n",
       "    </tr>\n",
       "    <tr>\n",
       "      <th>4</th>\n",
       "      <td>1.257476</td>\n",
       "      <td>1.090417</td>\n",
       "      <td>1.595389</td>\n",
       "    </tr>\n",
       "  </tbody>\n",
       "</table>\n",
       "</div>"
      ],
      "text/plain": [
       "       size  bedrooms     price\n",
       "0  0.130010 -0.223675  0.475747\n",
       "1 -0.504190 -0.223675 -0.084074\n",
       "2  0.502476 -0.223675  0.228626\n",
       "3 -0.735723 -1.537767 -0.867025\n",
       "4  1.257476  1.090417  1.595389"
      ]
     },
     "execution_count": 17,
     "metadata": {},
     "output_type": "execute_result"
    }
   ],
   "source": [
    "data = normalizeFeatures(data)\n",
    "data.head()"
   ]
  },
  {
   "cell_type": "markdown",
   "metadata": {},
   "source": [
    "## 2.2 Gradient Descent"
   ]
  },
  {
   "cell_type": "markdown",
   "metadata": {},
   "source": [
    "<font size=3>\n",
    "&emsp;&emsp;之前实现的批量梯度下降为了方便，已经可以用于多变量线性回归，因此，这部分不需要重新实现批量梯度下降函数。所以，我们快速实现这一训练过程。\n",
    "</font>"
   ]
  },
  {
   "cell_type": "code",
   "execution_count": 18,
   "metadata": {
    "collapsed": false
   },
   "outputs": [
    {
     "name": "stdout",
     "output_type": "stream",
     "text": [
      "第0轮:0.4805491041076719\n",
      "第50轮:0.2466270514254147\n",
      "第100轮:0.18209443801333897\n",
      "第150轮:0.1589449657733043\n",
      "第200轮:0.1479382495738683\n",
      "第250轮:0.14165454023209023\n",
      "第300轮:0.1377591345050687\n",
      "第350轮:0.13526905125531044\n",
      "第400轮:0.1336603777249612\n",
      "第450轮:0.13261743173777144\n",
      "第500轮:0.1319404652949001\n",
      "第550轮:0.13150088138523836\n",
      "第600轮:0.13121540352412622\n",
      "第650轮:0.13102999845828087\n",
      "第700轮:0.13090958448719198\n",
      "第750轮:0.13083137954753649\n",
      "第800轮:0.13078058791637864\n",
      "第850轮:0.130747600343977\n",
      "第900轮:0.13072617594607358\n",
      "第950轮:0.1307122614680553\n"
     ]
    }
   ],
   "source": [
    "# 加载数据\n",
    "X, y = loadData(data)\n",
    "# 初始化theta\n",
    "theta = initializeWithZeros(X.shape[1])\n",
    "# 设置学习速率和迭代次数\n",
    "alpha, iters = 0.01, 1000\n",
    "# 批量梯度下降\n",
    "theta, cost = batchGradientDescent(X, y, theta, alpha, iters)"
   ]
  },
  {
   "cell_type": "code",
   "execution_count": 19,
   "metadata": {
    "collapsed": false
   },
   "outputs": [
    {
     "data": {
      "text/plain": [
       "matrix([[ -1.03049956e-16],\n",
       "        [  8.78503652e-01],\n",
       "        [ -4.69166570e-02]])"
      ]
     },
     "execution_count": 19,
     "metadata": {},
     "output_type": "execute_result"
    }
   ],
   "source": [
    "theta"
   ]
  },
  {
   "cell_type": "markdown",
   "metadata": {},
   "source": [
    "<font size=3>\n",
    "查看损失函数的变化趋势\n",
    "</font>"
   ]
  },
  {
   "cell_type": "code",
   "execution_count": 20,
   "metadata": {
    "collapsed": false
   },
   "outputs": [
    {
     "data": {
      "image/png": "[encoded data removed]",
      "text/plain": [
       "<matplotlib.figure.Figure at 0x7f66ec6f0b00>"
      ]
     },
     "metadata": {},
     "output_type": "display_data"
    }
   ],
   "source": [
    "plt.figure(figsize=(12, 8))\n",
    "plt.plot(np.arange(iters), cost, color='red')\n",
    "plt.xlabel('Iterations')\n",
    "plt.ylabel('Cost')\n",
    "plt.title('Error vs. Training Epoch')\n",
    "plt.show()"
   ]
  },
  {
   "cell_type": "markdown",
   "metadata": {},
   "source": [
    "## 2.3 Selecting learning rates"
   ]
  },
  {
   "cell_type": "markdown",
   "metadata": {},
   "source": [
    "<font size=3>\n",
    "&emsp;&emsp;In this part of the exercise, you will get to try out different learning rates for the dataset and find a learning rate that converges quickly.  \n",
    "&emsp;&emsp;We recommend trying values of the learnig rate ${\\alpha}$ on a log-scale, at multiplicative steps of about 3 times the previous value (i.e., 0.3, 0.1, 0.03, 0.01 and so on). You may also want to adjust the number of iterations you are running if that will help you see the overall trend in the curve.\n",
    "</font>"
   ]
  },
  {
   "cell_type": "code",
   "execution_count": 21,
   "metadata": {
    "collapsed": false
   },
   "outputs": [
    {
     "data": {
      "text/plain": [
       "array([  1.00000000e-05,   3.00000000e-05,   2.15443469e-04,\n",
       "         6.46330407e-04,   4.64158883e-03,   1.39247665e-02,\n",
       "         1.00000000e-01,   3.00000000e-01])"
      ]
     },
     "execution_count": 21,
     "metadata": {},
     "output_type": "execute_result"
    }
   ],
   "source": [
    "base = np.logspace(-1, -5, num=4)\n",
    "candidate = np.sort(np.concatenate((base, base*3)))\n",
    "candidate"
   ]
  },
  {
   "cell_type": "code",
   "execution_count": 22,
   "metadata": {
    "collapsed": false
   },
   "outputs": [
    {
     "name": "stdout",
     "output_type": "stream",
     "text": [
      "第0轮:0.48935282630680776\n",
      "-----------------------------------------------\n",
      "第0轮:0.48889163189384\n",
      "-----------------------------------------------\n",
      "第0轮:0.4874014382501823\n",
      "-----------------------------------------------\n",
      "第0轮:0.47767477918367307\n",
      "-----------------------------------------------\n",
      "第0轮:0.4481778393626944\n",
      "-----------------------------------------------\n",
      "第0轮:0.3125713742011687\n",
      "-----------------------------------------------\n",
      "第0轮:0.17757033380170464\n",
      "-----------------------------------------------\n",
      "第0轮:0.13106616826695952\n",
      "-----------------------------------------------\n"
     ]
    },
    {
     "data": {
      "image/png": "[encoded data removed]",
      "text/plain": [
       "<matplotlib.figure.Figure at 0x7f66ec850860>"
      ]
     },
     "metadata": {},
     "output_type": "display_data"
    }
   ],
   "source": [
    "iters = 50\n",
    "theta = initializeWithZeros(X.shape[1])\n",
    "\n",
    "plt.figure(figsize=(12, 8))\n",
    "\n",
    "for alpha in candidate:\n",
    "    theta, cost = batchGradientDescent(X, y, theta, alpha, iters)\n",
    "    print('-----------------------------------------------')\n",
    "    plt.plot(np.arange(iters), cost, label=alpha)\n",
    "\n",
    "plt.xlabel('iters')\n",
    "plt.ylabel('cost')\n",
    "plt.title('learning rate')\n",
    "plt.legend(bbox_to_anchor=(1.05, 0), loc=3, borderaxespad=0)\n",
    "plt.show()"
   ]
  },
  {
   "cell_type": "markdown",
   "metadata": {
    "collapsed": true
   },
   "source": [
    "<font size=3>\n",
    "&emsp;&emsp;Notice the changes in the convergence curves as the learning rate changes. With a small learning rate, you should find that gradient descent takes a very long time to converge to the optimal value. Conversely, with a large learning rate, gradient descent might not converge or might even diverge!\n",
    "</font>"
   ]
  },
  {
   "cell_type": "markdown",
   "metadata": {},
   "source": [
    "# 3. Normal Equation (正规方程)"
   ]
  },
  {
   "cell_type": "markdown",
   "metadata": {},
   "source": [
    "<font size=3>\n",
    "&emsp;&emsp;正规方程是通过求解下面的方程来找出使损失函数最小的参数的 **$$\\frac{\\partial}{\\partial{\\theta}_{j}}J({\\theta}_{j}) = 0$$**\n",
    "&emsp;&emsp;假设我们的训练集特征矩阵为X（包含${x}_{0}=1$）并且，我们的训练集结果为向量y，则利用正规方程解出向量$${\\theta}=(X^{T}X)^{-1}X^{T}\\vec{y}$$\n",
    "&emsp;&emsp;利用上面这个公式的话，就不需要进行特征归一化，同时，通过一次计算就可以得到精确的结果。不需要经历像梯度下降法这样通过“不断循环直到收敛”的过程。\n",
    "</font>"
   ]
  },
  {
   "cell_type": "markdown",
   "metadata": {
    "collapsed": true
   },
   "source": [
    "<font size=3>\n",
    "**梯度下降与正规方程比较：**  \n",
    "&emsp;&emsp;1. 梯度下降：需要选择学习率α，需要多次迭代，当特征数量n大时也能较好地适用，适用于各种类型的模型。  \n",
    "&emsp;&emsp;2. 正规方程： 不需要选择α，一次计算得出，需要计算$(X^TX)^{-1}$，如果特征数量n较大，则运算速度较慢。因为，矩阵逆的计算时间复杂度为$O（n^3）$，通常来说，当n小于10000时，还是可以接受的。只适用于线性模型，不适用逻辑回归等其他模型。\n",
    "</font>"
   ]
  },
  {
   "cell_type": "code",
   "execution_count": 23,
   "metadata": {
    "collapsed": true
   },
   "outputs": [],
   "source": [
    "def normalEquation(X, y):\n",
    "    theta = np.linalg.inv(X.T@X)@X.T@y\n",
    "    return theta"
   ]
  },
  {
   "cell_type": "code",
   "execution_count": 24,
   "metadata": {
    "collapsed": false
   },
   "outputs": [
    {
     "data": {
      "text/plain": [
       "matrix([[ -1.04083409e-16],\n",
       "        [  8.84765988e-01],\n",
       "        [ -5.31788197e-02]])"
      ]
     },
     "execution_count": 24,
     "metadata": {},
     "output_type": "execute_result"
    }
   ],
   "source": [
    "theta = normalEquation(X, y)\n",
    "theta"
   ]
  },
  {
   "cell_type": "code",
   "execution_count": null,
   "metadata": {
    "collapsed": true
   },
   "outputs": [],
   "source": []
  }
 ],
 "metadata": {
  "kernelspec": {
   "display_name": "Python 3",
   "language": "python",
   "name": "python3"
  },
  "language_info": {
   "codemirror_mode": {
    "name": "ipython",
    "version": 3
   },
   "file_extension": ".py",
   "mimetype": "text/x-python",
   "name": "python",
   "nbconvert_exporter": "python",
   "pygments_lexer": "ipython3",
   "version": "3.6.0"
  }
 },
 "nbformat": 4,
 "nbformat_minor": 2
}
