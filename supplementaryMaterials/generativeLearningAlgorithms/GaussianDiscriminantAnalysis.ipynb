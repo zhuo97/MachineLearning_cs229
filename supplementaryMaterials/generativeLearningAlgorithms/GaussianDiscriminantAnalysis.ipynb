{
 "cells": [
  {
   "cell_type": "markdown",
   "metadata": {},
   "source": [
    "# Gaussian discriminant analysis"
   ]
  },
  {
   "cell_type": "markdown",
   "metadata": {},
   "source": [
    "## 1.1 The multivariate normal distribution"
   ]
  },
  {
   "cell_type": "markdown",
   "metadata": {},
   "source": [
    "<font size=4>\n",
    "&emsp;&emsp;The multivariate normal distribution in $n$-dimensions, also called the multivariate Gaussian distribution, is parameterized by a **mean vector** $\\mu\\in\\mathbb{R}^n$ and a **covariance matrix** $\\Sigma\\in\\mathbb{R}^{n×n}$, where $\\Sigma\\ge0$ is symmetric and positive semi-definite. Also written \"$\\mathcal{N}\\sim(\\mu,\\Sigma)$\", its density is given by:\n",
    "</font>"
   ]
  },
  {
   "cell_type": "markdown",
   "metadata": {},
   "source": [
    "<font size=4>\n",
    "$$\n",
    "p(x;\\mu,\\Sigma)=\\frac{1}{(2\\pi)^{n/2}|\\Sigma|^{1/2}}\\,exp\\left( -\\frac{1}{2}(x-\\mu)^T\\Sigma^{-1}(x-\\mu) \\right)\n",
    "$$\n",
    "</font>"
   ]
  },
  {
   "cell_type": "markdown",
   "metadata": {},
   "source": [
    "<font size=4>\n",
    "&emsp;&emsp;In the equation above, \"$|\\Sigma|$\" denotes the determinant of the matrix $\\Sigma$.\n",
    "</font>"
   ]
  },
  {
   "cell_type": "markdown",
   "metadata": {},
   "source": [
    "<font size=4>\n",
    "&emsp;&emsp;For a random variable $X$ distributed $\\mathcal{N}(\\mu,\\Sigma)$, the mean is (unsurprisingly) given by $\\mu$:\n",
    "</font>"
   ]
  },
  {
   "cell_type": "markdown",
   "metadata": {},
   "source": [
    "<font size=4>\n",
    "$$\n",
    "E[X]=\\int_xx\\,p(x;\\mu,\\Sigma)dx=\\mu\n",
    "$$\n",
    "</font>"
   ]
  },
  {
   "cell_type": "markdown",
   "metadata": {},
   "source": [
    "<font size=4>\n",
    "&emsp;&emsp;The **covariance** of a vector-valued random variable $Z$ is defined as $Cov(Z)=E[(Z-E[Z])(Z-E[Z])^T]$. This generalizes the notion of the variance of a real-valued random variable. The covariance can also be defined as $Cov(Z)=E[ZZ^T]-(E[Z])(E[Z])^T$. If $X\\sim\\mathcal{N}(\\mu,\\Sigma)$,then\n",
    "</font>"
   ]
  },
  {
   "cell_type": "markdown",
   "metadata": {},
   "source": [
    "<font size=4>\n",
    "$$\n",
    "Cov(X)=\\Sigma\n",
    "$$\n",
    "</font>"
   ]
  },
  {
   "cell_type": "markdown",
   "metadata": {},
   "source": [
    "## 1.2 The Gaussian Discriminant Analysis model"
   ]
  },
  {
   "cell_type": "markdown",
   "metadata": {},
   "source": [
    "<font size=4>\n",
    "&emsp;&emsp;When we have a classification problem in which the input features $x$ are continuous-valued random variables, we can then use the Gaussian Discriminant Analysis (GDA) model, which models $p(x\\,|\\,y)$ using a multivariate normal distribution. The model is:\n",
    "</font>"
   ]
  },
  {
   "cell_type": "markdown",
   "metadata": {},
   "source": [
    "<font size=4>\n",
    "$$\n",
    "\\begin{align}\n",
    "y&\\sim{Bernoulli(\\phi)} \\\\\n",
    "x\\,|\\,y=0&\\sim\\mathcal{N}(\\mu_0,\\Sigma) \\\\\n",
    "x\\,|\\,y=1&\\sim\\mathcal{N}(\\mu_1,\\Sigma) \n",
    "\\end{align}\n",
    "$$\n",
    "</font>"
   ]
  },
  {
   "cell_type": "markdown",
   "metadata": {},
   "source": [
    "<font size=4>\n",
    "&emsp;&emsp;Writing out the distribution, this is:\n",
    "</font>"
   ]
  },
  {
   "cell_type": "markdown",
   "metadata": {},
   "source": [
    "<font size=4>\n",
    "$$\n",
    "\\begin{align}\n",
    "p(y) &= \\phi^y(1-\\phi)^{1-y} \\\\\n",
    "p(x\\,|\\,y=0) &= \\frac{1}{(2\\pi)^{n/2}|\\Sigma|^{1/2}}\\,exp\\left( -\\frac{1}{2}(x-\\mu_0)^T\\Sigma^{-1}(x-\\mu_0) \\right) \\\\\n",
    "p(x\\,|\\,y=1) &= \\frac{1}{(2\\pi)^{n/2}|\\Sigma|^{1/2}}\\,exp\\left( -\\frac{1}{2}(x-\\mu_1)^T\\Sigma^{-1}(x-\\mu_1) \\right)\n",
    "\\end{align}\n",
    "$$\n",
    "</font>"
   ]
  },
  {
   "cell_type": "markdown",
   "metadata": {},
   "source": [
    "<font size=4>\n",
    "&emsp;&emsp;Here, the parameters of our model are $\\phi,\\Sigma,\\mu_0,\\mu_1$. (Note that while there're two different mean vectors $\\mu_0$ and $\\mu_1$, this model is usually applied using only one covariance matrix $\\Sigma$.) The log-likelihood of the data is given by\n",
    "</font>"
   ]
  },
  {
   "cell_type": "markdown",
   "metadata": {},
   "source": [
    "<font size=4>\n",
    "$$\n",
    "\\begin{align}\n",
    "l(\\phi,\\mu_0,\\mu_1,\\Sigma)\n",
    "&= log\\,\\prod^m_{i=1}p(x^{(i)},y^{(i)};\\phi,\\mu_0,\\mu_1,\\Sigma) \\\\\n",
    "&= log\\,\\prod^m_{i=1}p(x^{(i)}\\,|\\,y^{(i)};\\phi,\\mu_0,\\mu_1,\\Sigma)p(y^{(i)};\\phi)\n",
    "\\end{align}\n",
    "$$\n",
    "</font>"
   ]
  },
  {
   "cell_type": "markdown",
   "metadata": {},
   "source": [
    "<font size=4>\n",
    "&emsp;&emsp;By maximizing $l$ with respect to the parameters, we find the maximum likelihood estimate of the parameters to be:\n",
    "</font>"
   ]
  },
  {
   "cell_type": "markdown",
   "metadata": {},
   "source": [
    "<font size=4>\n",
    "$$\n",
    "\\begin{align}\n",
    "\\phi &= \\frac{1}{m}\\sum^{m}_{i=1}1\\{y^{(i)}=1 \\} \\\\\n",
    "\\mu_0 &= \\frac{\\sum^{m}_{i=1}1\\{y^{(i)}=0\\}x^{(i)}}{\\sum^{m}_{i=1}1\\{y^{(i)}=0\\}} \\\\\n",
    "\\mu_1 &= \\frac{\\sum^{m}_{i=1}1\\{y^{(i)}=1\\}x^{(i)}}{\\sum^{m}_{i=1}1\\{y^{(i)}=1\\}} \\\\\n",
    "\\Sigma &= \\frac{1}{m}\\sum^{m}_{i=1}(x^{(i)}-\\mu_{y^{(i)}})(x^{(i)}-\\mu_{y^{(i)}})^T\n",
    "\\end{align}\n",
    "$$\n",
    "</font>"
   ]
  },
  {
   "cell_type": "markdown",
   "metadata": {},
   "source": [
    "## 1.3 详细推导"
   ]
  },
  {
   "cell_type": "markdown",
   "metadata": {},
   "source": [
    "### 1.3.1 准备工作"
   ]
  },
  {
   "cell_type": "markdown",
   "metadata": {},
   "source": [
    "<font size=4>\n",
    "&emsp;&emsp;在推导高斯判别分析的过程中，需要用到以下四个公式：\n",
    "</font>"
   ]
  },
  {
   "cell_type": "markdown",
   "metadata": {},
   "source": [
    "<font size=4>\n",
    "$$\n",
    "\\triangledown_xx^TAx=2Ax，其中，A为对称矩阵\\quad(1)\n",
    "$$\n",
    "</font>"
   ]
  },
  {
   "cell_type": "markdown",
   "metadata": {},
   "source": [
    "<font size=4>\n",
    "$$\n",
    "\\triangledown_A\\big|\\,A\\,\\big|=\\big|\\,A\\,\\big|\\,(A^{-1})^T\\quad(2)\n",
    "$$\n",
    "</font>"
   ]
  },
  {
   "cell_type": "markdown",
   "metadata": {},
   "source": [
    "<font size=4>\n",
    "$$\n",
    "\\triangledown_Alog\\,\\big|\\,A\\,\\big|=A^{-1}，其中，A为正定矩阵\\quad(3)\n",
    "$$\n",
    "</font>"
   ]
  },
  {
   "cell_type": "markdown",
   "metadata": {},
   "source": [
    "<font size=4>\n",
    "$$\n",
    "\\triangledown_Ax^TAx=xx^T，其中，A为对称矩阵\\quad(4)\n",
    "$$\n",
    "</font>"
   ]
  },
  {
   "cell_type": "markdown",
   "metadata": {},
   "source": [
    "<font size=4>\n",
    "&emsp;&emsp;因为，式（1）的矩阵 A 为对称矩阵，所以 $x^TAx$ 为二次型，因此，$\\triangledown_xx^TAx=2Ax$。\n",
    "</font>"
   ]
  },
  {
   "cell_type": "markdown",
   "metadata": {},
   "source": [
    "<font size=4>\n",
    "下证式（2）：\n",
    "</font>"
   ]
  },
  {
   "cell_type": "markdown",
   "metadata": {},
   "source": [
    "<font size=4>\n",
    "&emsp;&emsp;由\n",
    "</font>"
   ]
  },
  {
   "cell_type": "markdown",
   "metadata": {},
   "source": [
    "<font size=4>\n",
    "$$\n",
    "\\big|\\,A\\,\\big|=\\sum^n_{i=1}(-1)^{i+j}A_{ij}\\big|\\,A_{\\backslash{i},\\backslash{j}}\\big| \\quad(\\,对任意\\,j\\in1,\\cdots,n)\n",
    "$$\n",
    "</font>"
   ]
  },
  {
   "cell_type": "markdown",
   "metadata": {},
   "source": [
    "<font size=4>\n",
    "&emsp;&emsp;可得\n",
    "</font>"
   ]
  },
  {
   "cell_type": "markdown",
   "metadata": {},
   "source": [
    "<font size=4>\n",
    "$$\n",
    "\\frac{\\partial}{\\partial{A_{kl}}}\\big|\\,A\\,\\big|=\\frac{\\partial}{\\partial{A_{kl}}}\\sum^n_{i=1}(-1)^{i+j}A_{ij}\\big|\\,A_{\\backslash{i},\\backslash{j}}\\big|=(-1)^{k+l}\\big|\\,A_{\\backslash{k},\\backslash{l}}\\big|=(adj(A))_{lk}\n",
    "$$\n",
    "</font>"
   ]
  },
  {
   "cell_type": "markdown",
   "metadata": {},
   "source": [
    "<font size=4>\n",
    "&emsp;&emsp;其中，adj(A) 表示矩阵 A 的伴随矩阵。因此\n",
    "</font>"
   ]
  },
  {
   "cell_type": "markdown",
   "metadata": {},
   "source": [
    "<font size=4>\n",
    "$$\n",
    "\\triangledown_A\\big|\\,A\\,\\big|=(adj(A))^T=\\big|\\,A\\,\\big|\\,(A^{-1})^T\n",
    "$$\n",
    "</font>"
   ]
  },
  {
   "cell_type": "markdown",
   "metadata": {},
   "source": [
    "<font size=4>\n",
    "下证式（3）：\n",
    "</font>"
   ]
  },
  {
   "cell_type": "markdown",
   "metadata": {},
   "source": [
    "<font size=4>\n",
    "&emsp;&emsp;因为，矩阵 A 为正定矩阵，所以，$\\big|\\,A\\,\\big|>0$，即 $log\\,\\big|\\,A\\,\\big|$ 存在，由\n",
    "</font>"
   ]
  },
  {
   "cell_type": "markdown",
   "metadata": {},
   "source": [
    "<font size=4>\n",
    "$$\n",
    "\\frac{\\partial\\,log\\,\\big|\\,A\\,\\big|}{\\partial\\,A_{ij}}=\\frac{\\partial\\,log\\,\\big|\\,A\\,\\big|}{\\partial\\,\\big|\\,A\\,\\big|}\\frac{\\partial\\,\\big|\\,A\\,\\big|}{\\partial\\,A_{ij}}=\\frac{1}{\\big|\\,A\\,\\big|}\\frac{\\partial\\,\\big|\\,A\\,\\big|}{\\partial\\,A_{ij}}\n",
    "$$\n",
    "</font>"
   ]
  },
  {
   "cell_type": "markdown",
   "metadata": {},
   "source": [
    "<font size=4>\n",
    "&emsp;&emsp;以及式（2）可得\n",
    "</font>"
   ]
  },
  {
   "cell_type": "markdown",
   "metadata": {},
   "source": [
    "<font size=4>\n",
    "$$\n",
    "\\triangledown_Alog\\,\\big|\\,A\\,\\big|=\\frac{1}{\\big|\\,A\\,\\big|}\\triangledown_A\\,\\big|\\,A\\,\\big|=A^{-1}\n",
    "$$\n",
    "</font>"
   ]
  },
  {
   "cell_type": "markdown",
   "metadata": {},
   "source": [
    "<font size=4>\n",
    "&emsp;&emsp;因为，矩阵 A 为对称矩阵，所以，上式最后的结果没有转置符号。\n",
    "</font>"
   ]
  },
  {
   "cell_type": "markdown",
   "metadata": {},
   "source": [
    "<font size=4>\n",
    "下证式（4）：\n",
    "</font>"
   ]
  },
  {
   "cell_type": "markdown",
   "metadata": {},
   "source": [
    "<font size=4>\n",
    "&emsp;&emsp;由\n",
    "</font>"
   ]
  },
  {
   "cell_type": "markdown",
   "metadata": {},
   "source": [
    "<font size=4>\n",
    "$$\n",
    "\\frac{\\partial\\,(x^TAx)}{\\partial\\,A_{lk}}=\\frac{\\partial}{\\partial\\,A_{lk}}\\sum_i\\sum_jA_{ij}x_ix_j=x_lx_k\n",
    "$$\n",
    "</font>"
   ]
  },
  {
   "cell_type": "markdown",
   "metadata": {},
   "source": [
    "<font size=4>\n",
    "&emsp;&emsp;可得\n",
    "</font>"
   ]
  },
  {
   "cell_type": "markdown",
   "metadata": {},
   "source": [
    "<font size=4>\n",
    "$$\n",
    "\\triangledown_Ax^TAx=xx^T\n",
    "$$\n",
    "</font>"
   ]
  },
  {
   "cell_type": "markdown",
   "metadata": {},
   "source": [
    "### 1.3.2 推导GDA最大似然估计最佳参数"
   ]
  },
  {
   "cell_type": "markdown",
   "metadata": {
    "collapsed": true
   },
   "source": [
    "<font size=4>\n",
    "对数似然函数：\n",
    "</font>"
   ]
  },
  {
   "cell_type": "markdown",
   "metadata": {
    "collapsed": true
   },
   "source": [
    "<font size=4>\n",
    "$$\n",
    "\\begin{align}\n",
    "l(\\phi,\\mu_0,\\mu_1,\\Sigma)\n",
    "&= log\\prod^m_{i=1}p(x^{(i)},y^{(i)}) \\\\\n",
    "&= log\\prod^m_{i=1}p(x^{(i)}\\,|\\,y^{(i)})p(y^{(i)}) \\\\\n",
    "&= \\sum^m_{i=1}log\\,p(x^{(i)}\\,|\\,y^{(i)})+\\sum^m_{i=1}log\\,p(y^{(i)}) \\\\\n",
    "&= \\sum^m_{i=1}log\\left( p(x^{(i)}\\,|\\,y^{(i)}=0)^{1-y^{(i)}} \\cdot p(x^{(i)}\\,|\\,y^{(i)}=1)^{y^{(i)}} \\right)+\\sum^m_{i=1}log\\,p(y^{(i)}) \\\\\n",
    "&= \\sum^m_{i=1}(1-y^{(i)})log\\left(p(x^{(i)}\\,|\\,y^{(i)}=0)\\right)+\\sum^m_{i=1}y^{(i)}log\\left(p(x^{(i)}\\,|\\,y^{(i)}=1)\\right)+\\sum^m_{i=1}log\\,p(y^{(i)})\n",
    "\\end{align}\n",
    "$$\n",
    "</font>"
   ]
  },
  {
   "cell_type": "markdown",
   "metadata": {
    "collapsed": true
   },
   "source": [
    "<font size=4>\n",
    "&emsp;&emsp;注意，此函数分为三个部分，$\\mu_0$ 只与第一部分有关，$\\mu_1$ 只与第二部分有关，$\\phi$ 只与第三部分有关，$\\Sigma$ 与第一和第二部分有关。 \n",
    "</font>"
   ]
  },
  {
   "cell_type": "markdown",
   "metadata": {
    "collapsed": true
   },
   "source": [
    "<font size=4>\n",
    "首先，求 $\\phi$，即\n",
    "</font>"
   ]
  },
  {
   "cell_type": "markdown",
   "metadata": {},
   "source": [
    "<font size=4>\n",
    "$$\n",
    "\\begin{align}\n",
    "\\triangledown_\\phi\\,l(\\phi,\\mu_0,\\mu_1,\\Sigma)\n",
    "&= \\triangledown_\\phi\\,\\sum^m_{i=1}log\\,p(y^{(i)})\\\\\n",
    "&= \\triangledown_\\phi\\,\\sum^m_{i=1}log\\,\\phi^{y^{(i)}}(1-\\phi)^{(1-y^{(i)})} \\\\\n",
    "&= \\triangledown_\\phi\\,\\sum^m_{i=1}\\left( y^{(i)}log\\,\\phi+(1-y^{(i)})log\\,(1-\\phi) \\right) \\\\\n",
    "&= \\sum^m_{i=1}\\left( y^{(i)}\\frac{1}{\\phi}-(1-y^{(i)})\\frac{1}{1-\\phi} \\right) \\\\\n",
    "&= \\sum^m_{i=1}\\left( 1\\{y^{(i)}=1\\}\\frac{1}{\\phi}-1\\{y^{(i)}=0\\}\\frac{1}{1-\\phi} \\right)\n",
    "\\end{align}\n",
    "$$\n",
    "</font>"
   ]
  },
  {
   "cell_type": "markdown",
   "metadata": {},
   "source": [
    "<font size=4>\n",
    "&emsp;&emsp;令其为零，即\n",
    "</font>"
   ]
  },
  {
   "cell_type": "markdown",
   "metadata": {},
   "source": [
    "<font size=4>\n",
    "$$\n",
    "\\begin{align}\n",
    "\\sum^m_{i=1}\\left( 1\\{y^{(i)}=1\\}\\frac{1}{\\phi}-1\\{y^{(i)}=0\\}\\frac{1}{1-\\phi} \\right) &= 0 \\\\\n",
    "\\frac{\\sum^m_{i=1}1\\{y^{(i)}=1\\}}{\\phi}-\\frac{\\sum^m_{i=1}1\\{y^{(i)}=0\\}}{1-\\phi} &= 0 \\\\\n",
    "\\frac{\\sum^m_{i=1}1\\{y^{(i)}=1\\}}{\\phi} &= \\frac{\\sum^m_{i=1}1\\{y^{(i)}=0\\}}{1-\\phi} \\\\\n",
    "\\sum^m_{i=1}1\\{y^{(i)}=1\\}-\\phi\\sum^m_{i=1}1\\{y^{(i)}=1\\} &= \\phi\\sum^m_{i=1}1\\{y^{(i)}=0\\} \\\\\n",
    "\\phi\\left( \\sum^m_{i=1}1\\{y^{(i)}=0\\}+\\sum^m_{i=1}1\\{y^{(i)}=1\\} \\right) &= \\sum^m_{i=1}1\\{y^{(i)}=1\\} \\\\\n",
    "\\phi &= \\frac{\\sum^m_{i=1}1\\{y^{(i)}=1\\}}{\\sum^m_{i=1}1\\{y^{(i)}=0\\}+\\sum^m_{i=1}1\\{y^{(i)}=1\\}}\n",
    "\\end{align}\n",
    "$$\n",
    "</font>"
   ]
  },
  {
   "cell_type": "markdown",
   "metadata": {},
   "source": [
    "<font size=4>\n",
    "&emsp;&emsp;注意到，$\\sum^m_{i=1}1\\{y^{(i)}=0\\}+\\sum^m_{i=1}1\\{y^{(i)}=1\\}=m$，因此，\n",
    "</font>"
   ]
  },
  {
   "cell_type": "markdown",
   "metadata": {},
   "source": [
    "<font size=4>\n",
    "$$\n",
    "\\phi = \\frac{\\sum^m_{i=1}1\\{y^{(i)}=1\\}}{m}\n",
    "$$\n",
    "</font>"
   ]
  },
  {
   "cell_type": "markdown",
   "metadata": {
    "collapsed": true
   },
   "source": [
    "<font size=4>\n",
    "其次，求 $\\mu_0$，即\n",
    "</font>"
   ]
  },
  {
   "cell_type": "markdown",
   "metadata": {
    "collapsed": true
   },
   "source": [
    "<font size=4>\n",
    "$$\n",
    "\\begin{align}\n",
    "\\triangledown_{\\mu_0}\\,l(\\phi,\\mu_0,\\mu_1,\\Sigma)\n",
    "&= \\triangledown_{\\mu_0}\\,\\sum^m_{i=1}(1-y^{(i)})log\\,p(x^{(i)}\\,|\\,y^{(i)}=0)\\\\\n",
    "&= \\triangledown_{\\mu_0}\\,\\sum^m_{i=1}(1-y^{(i)})(log\\,\\frac{1}{(2\\pi)^{n/2}|\\Sigma|^{1/2}}-\\frac{1}{2}(x^{(i)}-\\mu_0)^T\\Sigma^{-1}(x^{(i)}-\\mu_0)) \\\\\n",
    "&= \\sum^{m}_{i=1}(1-y^{(i)})\\Sigma^{-1}(x^{(i)}-\\mu_0) \\\\\n",
    "&= \\sum^{m}_{i=1}1\\{y^{(i)}=0\\}\\Sigma^{-1}(x^{(i)}-\\mu_0)\n",
    "\\end{align}\n",
    "$$\n",
    "</font>"
   ]
  },
  {
   "cell_type": "markdown",
   "metadata": {
    "collapsed": true
   },
   "source": [
    "<font size=4>\n",
    "&emsp;&emsp;令其为零，可得\n",
    "</font>"
   ]
  },
  {
   "cell_type": "markdown",
   "metadata": {},
   "source": [
    "<font size=4>\n",
    "$$\n",
    "\\mu_0=\\frac{\\sum^{m}_{i=1}1\\{y^{(i)}=0\\}x^{(i)}}{\\sum^{m}_{i=1}1\\{y^{(i)}=0\\}}\n",
    "$$\n",
    "</font>"
   ]
  },
  {
   "cell_type": "markdown",
   "metadata": {},
   "source": [
    "<font size=4>\n",
    "同理可得\n",
    "</font>"
   ]
  },
  {
   "cell_type": "markdown",
   "metadata": {},
   "source": [
    "<font size=4>\n",
    "$$\n",
    "\\mu_1=\\frac{\\sum^{m}_{i=1}1\\{y^{(i)}=1\\}x^{(i)}}{\\sum^{m}_{i=1}1\\{y^{(i)}=1\\}}\n",
    "$$\n",
    "</font>"
   ]
  },
  {
   "cell_type": "markdown",
   "metadata": {},
   "source": [
    "<font size=4>\n",
    "最后，求 $\\Sigma$，在此之前，先证明\n",
    "</font>"
   ]
  },
  {
   "cell_type": "markdown",
   "metadata": {},
   "source": [
    "<font size=4>\n",
    "$$\n",
    "\\triangledown_{\\Sigma}\\Sigma^{-1}=-\\Sigma^{-1}\\Sigma^{-1}\n",
    "$$\n",
    "</font>"
   ]
  },
  {
   "cell_type": "markdown",
   "metadata": {},
   "source": [
    "<font size=4>\n",
    "&emsp;&emsp;由\n",
    "</font>"
   ]
  },
  {
   "cell_type": "markdown",
   "metadata": {},
   "source": [
    "<font size=4>\n",
    "$$\n",
    "\\begin{align}\n",
    "\\frac{\\partial\\,I}{\\partial\\,x}\n",
    "&= \\frac{\\partial\\,(A^{-1}A)}{\\partial\\,x} \\\\\n",
    "&= A^{-1}\\frac{\\partial\\,A}{\\partial\\,x}+\\frac{\\partial\\,A^{-1}}{\\partial\\,x}A \\\\\n",
    "&= 0\n",
    "\\end{align}\n",
    "$$\n",
    "</font>"
   ]
  },
  {
   "cell_type": "markdown",
   "metadata": {},
   "source": [
    "<font size=4>\n",
    "&emsp;&emsp;可得\n",
    "</font>"
   ]
  },
  {
   "cell_type": "markdown",
   "metadata": {},
   "source": [
    "<font size=4>\n",
    "$$\n",
    "\\frac{\\partial\\,A^{-1}}{\\partial\\,x}A=-A^{-1}\\frac{\\partial\\,A}{\\partial\\,x}\n",
    "$$\n",
    "</font>"
   ]
  },
  {
   "cell_type": "markdown",
   "metadata": {},
   "source": [
    "<font size=4>\n",
    "&emsp;&emsp;两边右乘 $A^{-1}$，可得\n",
    "</font>"
   ]
  },
  {
   "cell_type": "markdown",
   "metadata": {},
   "source": [
    "<font size=4>\n",
    "$$\n",
    "\\frac{\\partial\\,A^{-1}}{\\partial\\,x}=-A^{-1}\\frac{\\partial\\,A}{\\partial\\,x}A^{-1}\n",
    "$$\n",
    "</font>"
   ]
  },
  {
   "cell_type": "markdown",
   "metadata": {},
   "source": [
    "<font size=4>\n",
    "&emsp;&emsp;因此\n",
    "</font>"
   ]
  },
  {
   "cell_type": "markdown",
   "metadata": {},
   "source": [
    "<font size=4>\n",
    "$$\n",
    "\\triangledown_{\\Sigma}\\Sigma^{-1}=-\\Sigma^{-1}\\Sigma^{-1}\n",
    "$$\n",
    "</font>"
   ]
  },
  {
   "cell_type": "markdown",
   "metadata": {},
   "source": [
    "<font size=4>\n",
    "&emsp;&emsp;于是\n",
    "</font>"
   ]
  },
  {
   "cell_type": "markdown",
   "metadata": {},
   "source": [
    "<font size=3>\n",
    "$$\n",
    "\\begin{align}\n",
    "\\triangledown_{\\Sigma}\\,l(\\phi,\\mu_0,\\mu_1,\\Sigma) \n",
    "&= \\triangledown_{\\Sigma}\\left( \\sum^m_{i=1}(1-y^{(i)})\\,log\\,p(x^{(i)}\\,|\\,y^{(i)}=0\\,;\\mu_0,\\Sigma)+\\sum^m_{i=1}y^{(i)}\\,log\\,p(x^{(i)}\\,|\\,y^{(i)}=1\\,;\\mu_1,\\Sigma) \\right) \\\\\n",
    "&= \\triangledown_{\\Sigma}\\left( \\sum^m_{i=1}(1-y^{(i)})\\,log\\,\\frac{1}{(2\\pi)^{n/2}|\\Sigma|^{1/2}}e^{-\\frac{1}{2}(x^{(i)}-\\mu_0)^T\\Sigma^{-1}(x^{(i)}-\\mu_0)}+\\sum^m_{i=1}y^{(i)}\\,log\\,\\frac{1}{(2\\pi)^{n/2}|\\Sigma|^{1/2}}e^{-\\frac{1}{2}(x^{(i)}-\\mu_1)^T\\Sigma^{-1}(x^{(i)}-\\mu_1)} \\right) \\\\\n",
    "&= \\triangledown_{\\Sigma}\\left( \\sum^m_{i=1}log\\,\\frac{1}{(2\\pi)^{n/2}|\\Sigma|^{1/2}}-\\frac{1}{2}\\sum^m_{i=1}(x^{(i)}-\\mu_{y^{(i)}})^T\\Sigma^{-1}(x^{(i)}-\\mu_{y^{(i)}}) \\right) \\\\\n",
    "&= \\triangledown_{\\Sigma}\\left( \\sum^m_{i=1}(-\\frac{n}{2}log\\,2\\pi-\\frac{1}{2}log\\,|\\Sigma|)-\\frac{1}{2}\\sum^m_{i=1}(x^{(i)}-\\mu_{y^{(i)}})^T\\Sigma^{-1}(x^{(i)}-\\mu_{y^{(i)}}) \\right) \\\\\n",
    "&= -\\frac{m}{2}\\Sigma^{-1}+\\frac{1}{2}\\sum^m_{i=1}(x^{(i)}-\\mu_{y^{(i)}})(x^{(i)}-\\mu_{y^{(i)}})^T\\Sigma^{-1}\\Sigma^{-1}\n",
    "\\end{align}\n",
    "$$\n",
    "</font>"
   ]
  },
  {
   "cell_type": "markdown",
   "metadata": {},
   "source": [
    "<font size=4>\n",
    "&emsp;&emsp;令其为零，可得\n",
    "</font>"
   ]
  },
  {
   "cell_type": "markdown",
   "metadata": {},
   "source": [
    "<font size=4>\n",
    "$$\n",
    "\\Sigma = \\frac{1}{m}\\sum^{m}_{i=1}(x^{(i)}-\\mu_{y^{(i)}})(x^{(i)}-\\mu_{y^{(i)}})^T\n",
    "$$\n",
    "</font>"
   ]
  },
  {
   "cell_type": "markdown",
   "metadata": {},
   "source": [
    "### 1.3.3 小结"
   ]
  },
  {
   "cell_type": "markdown",
   "metadata": {},
   "source": [
    "<font size=4>\n",
    "&emsp;&emsp;通过最大化似然函数，得到四个参数的估计值为：\n",
    "</font>"
   ]
  },
  {
   "cell_type": "markdown",
   "metadata": {},
   "source": [
    "<font size=4>\n",
    "$$\n",
    "\\begin{align}\n",
    "\\phi &= \\frac{1}{m}\\sum^{m}_{i=1}1\\{y^{(i)}=1 \\} \\\\\n",
    "\\mu_0 &= \\frac{\\sum^{m}_{i=1}1\\{y^{(i)}=0\\}x^{(i)}}{\\sum^{m}_{i=1}1\\{y^{(i)}=0\\}} \\\\\n",
    "\\mu_1 &= \\frac{\\sum^{m}_{i=1}1\\{y^{(i)}=1\\}x^{(i)}}{\\sum^{m}_{i=1}1\\{y^{(i)}=1\\}} \\\\\n",
    "\\Sigma &= \\frac{1}{m}\\sum^{m}_{i=1}(x^{(i)}-\\mu_{y^{(i)}})(x^{(i)}-\\mu_{y^{(i)}})^T\n",
    "\\end{align}\n",
    "$$\n",
    "</font>"
   ]
  },
  {
   "cell_type": "markdown",
   "metadata": {
    "collapsed": true
   },
   "source": [
    "## 1.4 Discussion: GDA and logistic regression"
   ]
  },
  {
   "cell_type": "code",
   "execution_count": null,
   "metadata": {
    "collapsed": true
   },
   "outputs": [],
   "source": []
  },
  {
   "cell_type": "code",
   "execution_count": null,
   "metadata": {
    "collapsed": true
   },
   "outputs": [],
   "source": []
  },
  {
   "cell_type": "code",
   "execution_count": null,
   "metadata": {
    "collapsed": true
   },
   "outputs": [],
   "source": []
  },
  {
   "cell_type": "code",
   "execution_count": null,
   "metadata": {
    "collapsed": true
   },
   "outputs": [],
   "source": []
  },
  {
   "cell_type": "code",
   "execution_count": null,
   "metadata": {
    "collapsed": true
   },
   "outputs": [],
   "source": []
  },
  {
   "cell_type": "code",
   "execution_count": null,
   "metadata": {
    "collapsed": true
   },
   "outputs": [],
   "source": []
  },
  {
   "cell_type": "code",
   "execution_count": null,
   "metadata": {
    "collapsed": true
   },
   "outputs": [],
   "source": []
  },
  {
   "cell_type": "code",
   "execution_count": null,
   "metadata": {
    "collapsed": true
   },
   "outputs": [],
   "source": []
  },
  {
   "cell_type": "code",
   "execution_count": null,
   "metadata": {
    "collapsed": true
   },
   "outputs": [],
   "source": []
  },
  {
   "cell_type": "code",
   "execution_count": null,
   "metadata": {
    "collapsed": true
   },
   "outputs": [],
   "source": [
    "<font size=4>\n",
    "&emsp;&emsp;\n",
    "</font>"
   ]
  }
 ],
 "metadata": {
  "kernelspec": {
   "display_name": "Python 3",
   "language": "python",
   "name": "python3"
  },
  "language_info": {
   "codemirror_mode": {
    "name": "ipython",
    "version": 3
   },
   "file_extension": ".py",
   "mimetype": "text/x-python",
   "name": "python",
   "nbconvert_exporter": "python",
   "pygments_lexer": "ipython3",
   "version": "3.6.0"
  }
 },
 "nbformat": 4,
 "nbformat_minor": 2
}
