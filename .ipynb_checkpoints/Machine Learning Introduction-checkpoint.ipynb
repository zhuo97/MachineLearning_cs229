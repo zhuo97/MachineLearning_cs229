{
 "cells": [
  {
   "cell_type": "markdown",
   "metadata": {},
   "source": [
    "### Machine Learning definition\n",
    "***"
   ]
  },
  {
   "cell_type": "markdown",
   "metadata": {},
   "source": [
    "* **Arthur Samuel(1959).**  \n",
    "Machine Learning: Field of study that gievs computers the ability to learn without being explicitly programmed.\n",
    "* **Tom Mitchell(1998).**  \n",
    "Well-posed Learning Problem: A computer program is said to learn from experience E with respect to some task T and asome performance measure P, if its performance on T, as measure by P, imporves with experience E.  "
   ]
  },
  {
   "cell_type": "markdown",
   "metadata": {},
   "source": []
  }
 ],
 "metadata": {
  "kernelspec": {
   "display_name": "Python 3",
   "language": "python",
   "name": "python3"
  },
  "language_info": {
   "codemirror_mode": {
    "name": "ipython",
    "version": 3
   },
   "file_extension": ".py",
   "mimetype": "text/x-python",
   "name": "python",
   "nbconvert_exporter": "python",
   "pygments_lexer": "ipython3",
   "version": "3.6.0"
  }
 },
 "nbformat": 4,
 "nbformat_minor": 2
}
