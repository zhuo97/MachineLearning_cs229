{
 "cells": [
  {
   "cell_type": "code",
   "execution_count": 1,
   "metadata": {
    "collapsed": false
   },
   "outputs": [],
   "source": [
    "import numpy as np\n",
    "import pandas as pd\n",
    "from PIL import Image\n",
    "import matplotlib\n",
    "import matplotlib.pyplot as plt\n",
    "import scipy.io as sio\n",
    "from sklearn.metrics import classification_report\n",
    "\n",
    "%matplotlib inline"
   ]
  },
  {
   "cell_type": "markdown",
   "metadata": {},
   "source": [
    "<font size=4>\n",
    "&emsp;&emsp;In this exercise, you will implement one-vs-all logistic regression and neural networks to recognize hand-written digits.\n",
    "</font>"
   ]
  },
  {
   "cell_type": "markdown",
   "metadata": {},
   "source": [
    "# 1. Multi-class Classification"
   ]
  },
  {
   "cell_type": "markdown",
   "metadata": {},
   "source": [
    "<font size=4>\n",
    "&emsp;&emsp;For this exercise, you will use logistic regression and neural networks to recognize handwritten digits (from 0 to 9). Automated handwritten digit recognition is widely used today - from recognizing zip codes (postal codes) on mail envelopes to recognizing amounts written on bank checks. This exercise will show you how the method you've learned can be used for this classification task.  \n",
    "&emsp;&emsp;In this first part of the exercise, you will extend your previous implemention of logistic regression and apply it to one-vs-all classification.\n",
    "</font>"
   ]
  },
  {
   "cell_type": "markdown",
   "metadata": {},
   "source": [
    "## 1.1 Dataset"
   ]
  },
  {
   "cell_type": "markdown",
   "metadata": {},
   "source": [
    "<font size=4>\n",
    "&emsp;&emsp;There are 5000 training examples in *ex3data1.mat*, where each training example is a 20 pixel by 20 pixel grayscale image of the digit. Each pixel is represented by a floating point number indicating the grayscale intensity at that location. The 20 by 20 grid of pixel is \"unrolled\" into a 400-dimensional vector. Each of these training examples becomes a single row in our data matrix X. This gives us a 5000 by 400 matrix X where every row is a training example for a handwritten digit image. \n",
    "**$$X=\\begin{bmatrix}—(x^{(1)})^T— \\\\ —(x^{(2)})^T— \\\\ ...... \\\\ —(x^{(m)})^T—\\end{bmatrix}$$**\n",
    "</font>"
   ]
  },
  {
   "cell_type": "markdown",
   "metadata": {},
   "source": [
    "<font size=4>\n",
    "&emsp;&emsp;The second part of the training set is a 5000-dimensional vector y that contains labels for the training set. Note that the \"0\" digit is labeled as \"10\", while the digits \"1\" to \"9\" are labeled as \"1\" to \"9\" in their natural order.\n",
    "</font>"
   ]
  },
  {
   "cell_type": "code",
   "execution_count": 2,
   "metadata": {
    "collapsed": false
   },
   "outputs": [
    {
     "data": {
      "text/plain": [
       "{'X': array([[ 0.,  0.,  0., ...,  0.,  0.,  0.],\n",
       "        [ 0.,  0.,  0., ...,  0.,  0.,  0.],\n",
       "        [ 0.,  0.,  0., ...,  0.,  0.,  0.],\n",
       "        ..., \n",
       "        [ 0.,  0.,  0., ...,  0.,  0.,  0.],\n",
       "        [ 0.,  0.,  0., ...,  0.,  0.,  0.],\n",
       "        [ 0.,  0.,  0., ...,  0.,  0.,  0.]]),\n",
       " '__globals__': [],\n",
       " '__header__': b'MATLAB 5.0 MAT-file, Platform: GLNXA64, Created on: Sun Oct 16 13:09:09 2011',\n",
       " '__version__': '1.0',\n",
       " 'y': array([[10],\n",
       "        [10],\n",
       "        [10],\n",
       "        ..., \n",
       "        [ 9],\n",
       "        [ 9],\n",
       "        [ 9]], dtype=uint8)}"
      ]
     },
     "execution_count": 2,
     "metadata": {},
     "output_type": "execute_result"
    }
   ],
   "source": [
    "data = sio.loadmat('./ex3data1.mat')\n",
    "data"
   ]
  },
  {
   "cell_type": "code",
   "execution_count": 3,
   "metadata": {
    "collapsed": false
   },
   "outputs": [
    {
     "data": {
      "text/plain": [
       "((5000, 400), (5000, 1))"
      ]
     },
     "execution_count": 3,
     "metadata": {},
     "output_type": "execute_result"
    }
   ],
   "source": [
    "data['X'].shape, data['y'].shape"
   ]
  },
  {
   "cell_type": "code",
   "execution_count": 4,
   "metadata": {
    "collapsed": true
   },
   "outputs": [],
   "source": [
    "def loadData(path, transpose=True):\n",
    "    \n",
    "    data = sio.loadmat(path)\n",
    "    X = data['X']\n",
    "    y = data['y']\n",
    "    \n",
    "    if transpose:\n",
    "        X = np.array([im.reshape(20, 20).T for im in X])\n",
    "    else:\n",
    "        X = np.array([im.reshape(400) for im in X])\n",
    "    \n",
    "    return X, y"
   ]
  },
  {
   "cell_type": "markdown",
   "metadata": {},
   "source": [
    "## 1.2 Visualizing the data"
   ]
  },
  {
   "cell_type": "code",
   "execution_count": 5,
   "metadata": {
    "collapsed": true
   },
   "outputs": [],
   "source": [
    "def plotAnImage(pixels):\n",
    "    plt.figure(figsize=(1, 1))\n",
    "    plt.matshow(pixels, cmap=matplotlib.cm.binary)\n",
    "    plt.xticks(np.array([]))\n",
    "    plt.yticks(np.array([]))"
   ]
  },
  {
   "cell_type": "code",
   "execution_count": 6,
   "metadata": {
    "collapsed": false
   },
   "outputs": [
    {
     "name": "stdout",
     "output_type": "stream",
     "text": [
      "this should be [2]\n"
     ]
    },
    {
     "data": {
      "text/plain": [
       "<matplotlib.figure.Figure at 0x7f16f1291358>"
      ]
     },
     "metadata": {},
     "output_type": "display_data"
    },
    {
     "data": {
      "image/png": "[encoded data removed]",
      "text/plain": [
       "<matplotlib.figure.Figure at 0x7f16f0fe32b0>"
      ]
     },
     "metadata": {},
     "output_type": "display_data"
    }
   ],
   "source": [
    "X, y = loadData('./ex3data1.mat')\n",
    "pickOne = np.random.randint(0, 5000)\n",
    "plotAnImage(X[pickOne, :, :])\n",
    "print('this should be {}'.format(y[pickOne]))"
   ]
  },
  {
   "cell_type": "markdown",
   "metadata": {},
   "source": [
    "<font size=4>\n",
    "&emsp;&emsp;**numpy.random.choice**  \n",
    "**Parameters**:  \n",
    "&emsp;**a: 1-D array-like or int:**\n",
    "if an ndarray, a random sample is generated from its elements. If an int, the random sample is generated as if a were np.arange(a)  \n",
    "&emsp;**size: int or tuple of ints, optional:**\n",
    "Output shape. If the given shape is, e.g., (m, n, k), then m \\* n \\* k samples are drawn. Default is None, in which case a single value is returned.\n",
    "</font>"
   ]
  },
  {
   "cell_type": "code",
   "execution_count": 7,
   "metadata": {
    "collapsed": true
   },
   "outputs": [],
   "source": [
    "def plot100Image(X):\n",
    "    \n",
    "    sampleIdx = np.random.choice(X.shape[0], 100)\n",
    "    samplePixels = X[sampleIdx, :, :]\n",
    "     \n",
    "    fig, ax = plt.subplots(nrows=10, ncols=10, sharex=True, sharey=True, figsize=(8, 8))\n",
    "    \n",
    "    for row in range(10):\n",
    "        for col in range(10):\n",
    "            ax[row, col].matshow(samplePixels[10 * row + col].reshape(20, 20),\n",
    "                             cmap=matplotlib.cm.binary)\n",
    "            plt.xticks(np.array([]))\n",
    "            plt.yticks(np.array([]))"
   ]
  },
  {
   "cell_type": "code",
   "execution_count": 8,
   "metadata": {
    "collapsed": false
   },
   "outputs": [
    {
     "data": {
      "image/png": "[encoded data removed]",
      "text/plain": [
       "<matplotlib.figure.Figure at 0x7f16f1291a90>"
      ]
     },
     "metadata": {},
     "output_type": "display_data"
    }
   ],
   "source": [
    "plot100Image(X)"
   ]
  },
  {
   "cell_type": "markdown",
   "metadata": {
    "collapsed": true
   },
   "source": [
    "## 1.3 建立逻辑回归模型"
   ]
  },
  {
   "cell_type": "code",
   "execution_count": 9,
   "metadata": {
    "collapsed": true
   },
   "outputs": [],
   "source": [
    "def initializedWithZeros(dim):\n",
    "    return np.zeros((dim, 1))"
   ]
  },
  {
   "cell_type": "code",
   "execution_count": 10,
   "metadata": {
    "collapsed": true
   },
   "outputs": [],
   "source": [
    "def sigmoid(Z):\n",
    "    return 1 / (1 + np.exp(-Z))"
   ]
  },
  {
   "cell_type": "code",
   "execution_count": 11,
   "metadata": {
    "collapsed": true
   },
   "outputs": [],
   "source": [
    "def computeRegularizedCost(theta, X, y, l):\n",
    "    m = X.shape[0]\n",
    "    theta_j1_to_n = theta[1:]\n",
    "    \n",
    "    first = np.multiply(-y, np.log(sigmoid(X @ theta)))\n",
    "    second = np.multiply(1-y, np.log(1-sigmoid(X @ theta)))\n",
    "    regularizedTerm = (l / (2*m)) * np.power(theta_j1_to_n, 2).sum()\n",
    "    \n",
    "    return np.mean(first - second) + regularizedTerm"
   ]
  },
  {
   "cell_type": "code",
   "execution_count": 12,
   "metadata": {
    "collapsed": true
   },
   "outputs": [],
   "source": [
    "def regularizedGradient(theta, X, y, l):\n",
    "    m = X.shape[1]\n",
    "    theta_j1_to_n = theta[1:]\n",
    "    \n",
    "    grad = np.dot(X.T, sigmoid(X @ theta) - y) / m\n",
    "    regularizedTheta = (l / m) * theta_j1_to_n\n",
    "    \n",
    "    regularizedTerm = np.concatenate([np.matrix([0]), regularizedTheta])\n",
    "    \n",
    "    return grad + regularizedTerm"
   ]
  },
  {
   "cell_type": "code",
   "execution_count": 13,
   "metadata": {
    "collapsed": false
   },
   "outputs": [],
   "source": [
    "def batchGradientDescent(theta, X, y, alpha, iters, l, printFlag):\n",
    "    \n",
    "    for i in range(iters):\n",
    "        theta = theta - alpha * regularizedGradient(theta, X, y, l)\n",
    "        \n",
    "        if printFlag and i % 500 == 0:\n",
    "            cost = computeRegularizedCost(theta, X, y, l)\n",
    "            print('第{iters}轮:{cost}'.format(iters=i, cost=cost))\n",
    "            \n",
    "    return theta"
   ]
  },
  {
   "cell_type": "code",
   "execution_count": 14,
   "metadata": {
    "collapsed": true
   },
   "outputs": [],
   "source": [
    "def logisticRegression(X, y, alpha, iters, l=1, printFlag=False):\n",
    "    \n",
    "    theta = initializedWithZeros(X.shape[1])\n",
    "    \n",
    "    theta = batchGradientDescent(theta, X, y, alpha, iters, l, printFlag)\n",
    "    \n",
    "    return theta"
   ]
  },
  {
   "cell_type": "code",
   "execution_count": 15,
   "metadata": {
    "collapsed": true
   },
   "outputs": [],
   "source": [
    "def predict(X, theta):\n",
    "    prob = sigmoid(X @ theta)\n",
    "    return (prob >= 0.5).astype(int)"
   ]
  },
  {
   "cell_type": "markdown",
   "metadata": {
    "collapsed": true
   },
   "source": [
    "## 1.4 准备训练数据"
   ]
  },
  {
   "cell_type": "code",
   "execution_count": 16,
   "metadata": {
    "collapsed": false
   },
   "outputs": [
    {
     "data": {
      "text/plain": [
       "((5000, 400), (5000, 1))"
      ]
     },
     "execution_count": 16,
     "metadata": {},
     "output_type": "execute_result"
    }
   ],
   "source": [
    "X, y = loadData('./ex3data1.mat', transpose=False)\n",
    "X.shape, y.shape"
   ]
  },
  {
   "cell_type": "markdown",
   "metadata": {
    "collapsed": true
   },
   "source": [
    "<font size=4>\n",
    "&emsp;&emsp;Add intercept=1 for x0\n",
    "</font>"
   ]
  },
  {
   "cell_type": "code",
   "execution_count": 17,
   "metadata": {
    "collapsed": false
   },
   "outputs": [
    {
     "data": {
      "text/plain": [
       "(5000, 401)"
      ]
     },
     "execution_count": 17,
     "metadata": {},
     "output_type": "execute_result"
    }
   ],
   "source": [
    "X = np.insert(X, 0, values=np.ones(X.shape[0]), axis=1)\n",
    "X.shape"
   ]
  },
  {
   "cell_type": "markdown",
   "metadata": {},
   "source": [
    "<font size=4>\n",
    "&emsp;&emsp;当前标签y的取值为1-10，其中，由于matlab的index是从1开始的，所以标签10表示类别0。当前我们需要针对每个类别分别训练一个逻辑回归模型，用于判断该手写数字是否属于该类别，因此，一共需要训练10个逻辑回归模型。现在需要对于标签y进行处理，将每个类别分别离散化为0-1标签，例如，针对类别0, 标签1表示该手写数字是类别0, 标签0表示该手写数字不是类别0，以此类推。\n",
    "</font>"
   ]
  },
  {
   "cell_type": "code",
   "execution_count": 18,
   "metadata": {
    "collapsed": false
   },
   "outputs": [
    {
     "data": {
      "text/plain": [
       "(10, 5000, 1)"
      ]
     },
     "execution_count": 18,
     "metadata": {},
     "output_type": "execute_result"
    }
   ],
   "source": [
    "y_matrix = []\n",
    "\n",
    "for k in range(1, 11):\n",
    "    y_matrix.append((y == k).astype(int))\n",
    "\n",
    "# last one is k==10, it's digit 0, bring it to the first position\n",
    "y_matrix = [y_matrix[-1]] + y_matrix[:-1]\n",
    "y = np.array(y_matrix)\n",
    "\n",
    "y.shape"
   ]
  },
  {
   "cell_type": "markdown",
   "metadata": {
    "collapsed": true
   },
   "source": [
    "## 1.5 训练单个逻辑回归模型"
   ]
  },
  {
   "cell_type": "markdown",
   "metadata": {},
   "source": [
    "<font size=4>\n",
    "&emsp;&emsp;先训练一个逻辑回归模型，方便进行调参以提高训练的效果。选择类别0进行训练。\n",
    "</font>"
   ]
  },
  {
   "cell_type": "code",
   "execution_count": 19,
   "metadata": {
    "collapsed": true
   },
   "outputs": [],
   "source": [
    "config = {\n",
    "    'X': X,\n",
    "    'y': y[0],\n",
    "    'alpha': 0.3,\n",
    "    'iters': 1500,\n",
    "    'l': 1,\n",
    "    'printFlag': True\n",
    "}"
   ]
  },
  {
   "cell_type": "code",
   "execution_count": 20,
   "metadata": {
    "collapsed": false
   },
   "outputs": [
    {
     "name": "stdout",
     "output_type": "stream",
     "text": [
      "第0轮:2.790343504287231\n",
      "第500轮:0.02178868696514968\n",
      "第1000轮:0.020590678030923973\n"
     ]
    }
   ],
   "source": [
    "theta0 = logisticRegression(**config)"
   ]
  },
  {
   "cell_type": "code",
   "execution_count": 21,
   "metadata": {
    "collapsed": false
   },
   "outputs": [
    {
     "name": "stdout",
     "output_type": "stream",
     "text": [
      "Accuracy=0.9972\n"
     ]
    }
   ],
   "source": [
    "y_pred = predict(X, theta0)\n",
    "print('Accuracy={}'.format(np.mean(y[0] == y_pred)))"
   ]
  },
  {
   "cell_type": "markdown",
   "metadata": {},
   "source": [
    "## 1.6 训练k个逻辑回归模型"
   ]
  },
  {
   "cell_type": "code",
   "execution_count": 22,
   "metadata": {
    "collapsed": false
   },
   "outputs": [],
   "source": [
    "k_theta = []\n",
    "for k in range(10):\n",
    "    config = {\n",
    "        'X': X,\n",
    "        'y': y[k].reshape(-1, 1),\n",
    "        'alpha': 0.3,\n",
    "        'iters': 1500,\n",
    "        'l': 1,\n",
    "        'printFlag': False\n",
    "    }\n",
    "\n",
    "    theta = logisticRegression(**config)\n",
    "    k_theta.append(theta)\n",
    "    \n",
    "k_theta = np.array(k_theta)"
   ]
  },
  {
   "cell_type": "code",
   "execution_count": 23,
   "metadata": {
    "collapsed": false
   },
   "outputs": [
    {
     "data": {
      "text/plain": [
       "(10, 401, 1)"
      ]
     },
     "execution_count": 23,
     "metadata": {},
     "output_type": "execute_result"
    }
   ],
   "source": [
    "k_theta.shape"
   ]
  },
  {
   "cell_type": "markdown",
   "metadata": {},
   "source": [
    "<font size=4>\n",
    "&emsp;&emsp;通过$X{\\theta}^T$计算概率矩阵。概率矩阵的每一行存储的是该样本属于每一个类别的概率，例如，第0行存储的是第一个样本属于0-9这10个类别的概率，即第0行0列，表示第一个样本是类别0的概率，以此类推。因此，我们选取每一行的最大值的索引作为每个样本的预测类别。\n",
    "</font>"
   ]
  },
  {
   "cell_type": "code",
   "execution_count": 24,
   "metadata": {
    "collapsed": false
   },
   "outputs": [
    {
     "data": {
      "text/plain": [
       "(5000, 1)"
      ]
     },
     "execution_count": 24,
     "metadata": {},
     "output_type": "execute_result"
    }
   ],
   "source": [
    "probMatrix = sigmoid(X @ k_theta[:,:,0].T)\n",
    "y_pred = np.argmax(probMatrix, axis=1).reshape(-1, 1)\n",
    "y_pred.shape"
   ]
  },
  {
   "cell_type": "markdown",
   "metadata": {},
   "source": [
    "<font size=4>\n",
    "&emsp;&emsp;由于之前对标签y进行了预处理，所以这里重新加载数据。并同时将标签10置为标签0，用于代表类别0。\n",
    "</font>"
   ]
  },
  {
   "cell_type": "code",
   "execution_count": 25,
   "metadata": {
    "collapsed": false
   },
   "outputs": [],
   "source": [
    "X, y = loadData('./ex3data1.mat', transpose=False)\n",
    "y[y == 10] = 0"
   ]
  },
  {
   "cell_type": "code",
   "execution_count": 26,
   "metadata": {
    "collapsed": false
   },
   "outputs": [
    {
     "name": "stdout",
     "output_type": "stream",
     "text": [
      "             precision    recall  f1-score   support\n",
      "\n",
      "          0       0.97      0.99      0.98       500\n",
      "          1       0.96      0.97      0.96       500\n",
      "          2       0.94      0.91      0.92       500\n",
      "          3       0.95      0.90      0.92       500\n",
      "          4       0.95      0.94      0.95       500\n",
      "          5       0.93      0.90      0.91       500\n",
      "          6       0.97      0.98      0.97       500\n",
      "          7       0.94      0.95      0.95       500\n",
      "          8       0.86      0.95      0.90       500\n",
      "          9       0.92      0.91      0.91       500\n",
      "\n",
      "avg / total       0.94      0.94      0.94      5000\n",
      "\n"
     ]
    }
   ],
   "source": [
    "print(classification_report(y, y_pred))"
   ]
  },
  {
   "cell_type": "markdown",
   "metadata": {},
   "source": [
    "# 2. Neural Networks"
   ]
  },
  {
   "cell_type": "markdown",
   "metadata": {},
   "source": [
    "<font size=4>\n",
    "&emsp;&emsp;In the previous part of this exercise, you implemented multi-class logistic regression to recognize handwritten digits. However, logistic regression cannot form more complex hypotheses as it is only a linear classifier.(You could add polynomial features to logistic regression, but that can be very expensive to train.)  \n",
    "&emsp;&emsp;In this part of the exercise, you will implement a neural network to recognize handwritten digits using the same training set as before. The neural network will be able to represent complex models that form non-linear hypotheses. For this week, you will be using parameters from a neural network that we have already trained. You goal is to implement the feedforward propagation algorithm to use our weights for prediction. In next week's exercise, you will write the backpropagation algorithm for learning the neural network parameters.\n",
    "</font>"
   ]
  },
  {
   "cell_type": "markdown",
   "metadata": {},
   "source": [
    "## 2.1 神经网络模型图示\n",
    "<img style=\"float: left;\" src=\"./nn_model.png\">"
   ]
  },
  {
   "cell_type": "markdown",
   "metadata": {},
   "source": [
    "<font size=4>\n",
    "&emsp;&emsp;Our neural network has 3 layers - an input layer, a hidden layer and an output layer. Recall that our inputs are pixel values of digit images. Since the images are of size 20 × 20, this gives us 400 input layer units (excluding the extra bias unit which always outputs +1). As before, the training data will be loaded into the variables X and y.\n",
    "</font>"
   ]
  },
  {
   "cell_type": "code",
   "execution_count": 27,
   "metadata": {
    "collapsed": true
   },
   "outputs": [],
   "source": [
    "def loadWeights(path):\n",
    "    data = sio.loadmat(path)\n",
    "    return data['Theta1'], data['Theta2']"
   ]
  },
  {
   "cell_type": "code",
   "execution_count": 28,
   "metadata": {
    "collapsed": false
   },
   "outputs": [
    {
     "data": {
      "text/plain": [
       "((25, 401), (10, 26))"
      ]
     },
     "execution_count": 28,
     "metadata": {},
     "output_type": "execute_result"
    }
   ],
   "source": [
    "theta1, theta2 = loadWeights('./ex3weights.mat')\n",
    "theta1.shape, theta2.shape"
   ]
  },
  {
   "cell_type": "code",
   "execution_count": 29,
   "metadata": {
    "collapsed": false
   },
   "outputs": [
    {
     "data": {
      "text/plain": [
       "((5000, 400), (5000, 1))"
      ]
     },
     "execution_count": 29,
     "metadata": {},
     "output_type": "execute_result"
    }
   ],
   "source": [
    "X, y = loadData('ex3data1.mat', transpose=False)\n",
    "X.shape, y.shape"
   ]
  },
  {
   "cell_type": "code",
   "execution_count": 30,
   "metadata": {
    "collapsed": false
   },
   "outputs": [
    {
     "data": {
      "text/plain": [
       "(5000, 401)"
      ]
     },
     "execution_count": 30,
     "metadata": {},
     "output_type": "execute_result"
    }
   ],
   "source": [
    "X = np.insert(X, 0, values=np.ones(X.shape[0]), axis=1)\n",
    "X.shape"
   ]
  },
  {
   "cell_type": "markdown",
   "metadata": {},
   "source": [
    "## 2.2 Feedforward Propagation and Prediction"
   ]
  },
  {
   "cell_type": "code",
   "execution_count": 31,
   "metadata": {
    "collapsed": false
   },
   "outputs": [
    {
     "data": {
      "text/plain": [
       "array([[  1.38245045e-04,   2.05540079e-03,   3.04012453e-03, ...,\n",
       "          4.91017499e-04,   7.74325818e-03,   9.96229459e-01],\n",
       "       [  5.87756717e-04,   2.85026516e-03,   4.14687943e-03, ...,\n",
       "          2.92311247e-03,   2.35616705e-03,   9.96196668e-01],\n",
       "       [  1.08683616e-04,   3.82659802e-03,   3.05855129e-02, ...,\n",
       "          7.51453949e-02,   6.57039547e-03,   9.35862781e-01],\n",
       "       ..., \n",
       "       [  6.27824726e-02,   4.50406476e-03,   3.54510925e-02, ...,\n",
       "          2.63669734e-03,   6.89448164e-01,   2.74369466e-05],\n",
       "       [  1.01908736e-03,   7.34360211e-04,   3.78558700e-04, ...,\n",
       "          1.45616578e-02,   9.75989758e-01,   2.33374461e-04],\n",
       "       [  5.90807037e-05,   5.41717668e-04,   2.58968308e-05, ...,\n",
       "          7.00508308e-03,   7.32814653e-01,   9.16696059e-02]])"
      ]
     },
     "execution_count": 31,
     "metadata": {},
     "output_type": "execute_result"
    }
   ],
   "source": [
    "a1 = X\n",
    "\n",
    "z2 = a1 @ theta1.T\n",
    "z2 = np.insert(z2, 0, np.ones(z2.shape[0]), axis=1)\n",
    "a2 = sigmoid(z2)\n",
    "\n",
    "z3 = a2 @ theta2.T\n",
    "a3 = sigmoid(z3)\n",
    "a3"
   ]
  },
  {
   "cell_type": "code",
   "execution_count": 32,
   "metadata": {
    "collapsed": false
   },
   "outputs": [
    {
     "data": {
      "text/plain": [
       "(5000,)"
      ]
     },
     "execution_count": 32,
     "metadata": {},
     "output_type": "execute_result"
    }
   ],
   "source": [
    "# numpy is 0 base index, +1 for matlab convention\n",
    "y_pred = np.argmax(a3, axis=1) + 1\n",
    "y_pred.shape"
   ]
  },
  {
   "cell_type": "code",
   "execution_count": 33,
   "metadata": {
    "collapsed": false
   },
   "outputs": [
    {
     "name": "stdout",
     "output_type": "stream",
     "text": [
      "             precision    recall  f1-score   support\n",
      "\n",
      "          1       0.97      0.98      0.97       500\n",
      "          2       0.98      0.97      0.97       500\n",
      "          3       0.98      0.96      0.97       500\n",
      "          4       0.97      0.97      0.97       500\n",
      "          5       0.98      0.98      0.98       500\n",
      "          6       0.97      0.99      0.98       500\n",
      "          7       0.98      0.97      0.97       500\n",
      "          8       0.98      0.98      0.98       500\n",
      "          9       0.97      0.96      0.96       500\n",
      "         10       0.98      0.99      0.99       500\n",
      "\n",
      "avg / total       0.98      0.98      0.98      5000\n",
      "\n"
     ]
    }
   ],
   "source": [
    "print(classification_report(y, y_pred))"
   ]
  },
  {
   "cell_type": "code",
   "execution_count": null,
   "metadata": {
    "collapsed": true
   },
   "outputs": [],
   "source": []
  }
 ],
 "metadata": {
  "kernelspec": {
   "display_name": "Python 3",
   "language": "python",
   "name": "python3"
  },
  "language_info": {
   "codemirror_mode": {
    "name": "ipython",
    "version": 3
   },
   "file_extension": ".py",
   "mimetype": "text/x-python",
   "name": "python",
   "nbconvert_exporter": "python",
   "pygments_lexer": "ipython3",
   "version": "3.6.0"
  }
 },
 "nbformat": 4,
 "nbformat_minor": 2
}
