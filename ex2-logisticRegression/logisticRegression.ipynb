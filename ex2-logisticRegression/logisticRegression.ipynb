{
 "cells": [
  {
   "cell_type": "code",
   "execution_count": 1,
   "metadata": {
    "collapsed": true
   },
   "outputs": [],
   "source": [
    "import numpy as np\n",
    "import pandas as pd\n",
    "import matplotlib.pyplot as plt\n",
    "import seaborn as sns\n",
    "\n",
    "%matplotlib inline"
   ]
  },
  {
   "cell_type": "markdown",
   "metadata": {},
   "source": [
    "# 1. Logistic Regression"
   ]
  },
  {
   "cell_type": "markdown",
   "metadata": {},
   "source": [
    "<font size=3>\n",
    "&emsp;&emsp;In this part of the exercise, you will build a logistic regression model to predict whether a student gets admitted into a university.  \n",
    "&emsp;&emsp;Suppose that you are the administrator of a university department and you want to determine each applicant's chance of admission based on their results on two exams. You have historical data from previous applicants that you can use as a training set for logistic regression. For each training example, you have the applicant's scores on two exams and the admissions decision.  \n",
    "&emsp;&emsp;Your task is to build a classification model that estimates an applicant's probability of admission based the scores from those two exams.\n",
    "</font>"
   ]
  },
  {
   "cell_type": "code",
   "execution_count": 2,
   "metadata": {
    "collapsed": false
   },
   "outputs": [
    {
     "data": {
      "text/html": [
       "<div>\n",
       "<table border=\"1\" class=\"dataframe\">\n",
       "  <thead>\n",
       "    <tr style=\"text-align: right;\">\n",
       "      <th></th>\n",
       "      <th>Exam_1</th>\n",
       "      <th>Exam_2</th>\n",
       "      <th>Admitted</th>\n",
       "    </tr>\n",
       "  </thead>\n",
       "  <tbody>\n",
       "    <tr>\n",
       "      <th>0</th>\n",
       "      <td>34.623660</td>\n",
       "      <td>78.024693</td>\n",
       "      <td>0</td>\n",
       "    </tr>\n",
       "    <tr>\n",
       "      <th>1</th>\n",
       "      <td>30.286711</td>\n",
       "      <td>43.894998</td>\n",
       "      <td>0</td>\n",
       "    </tr>\n",
       "    <tr>\n",
       "      <th>2</th>\n",
       "      <td>35.847409</td>\n",
       "      <td>72.902198</td>\n",
       "      <td>0</td>\n",
       "    </tr>\n",
       "    <tr>\n",
       "      <th>3</th>\n",
       "      <td>60.182599</td>\n",
       "      <td>86.308552</td>\n",
       "      <td>1</td>\n",
       "    </tr>\n",
       "    <tr>\n",
       "      <th>4</th>\n",
       "      <td>79.032736</td>\n",
       "      <td>75.344376</td>\n",
       "      <td>1</td>\n",
       "    </tr>\n",
       "  </tbody>\n",
       "</table>\n",
       "</div>"
      ],
      "text/plain": [
       "      Exam_1     Exam_2  Admitted\n",
       "0  34.623660  78.024693         0\n",
       "1  30.286711  43.894998         0\n",
       "2  35.847409  72.902198         0\n",
       "3  60.182599  86.308552         1\n",
       "4  79.032736  75.344376         1"
      ]
     },
     "execution_count": 2,
     "metadata": {},
     "output_type": "execute_result"
    }
   ],
   "source": [
    "data = pd.read_csv('./ex2data1.txt', names=['Exam_1', 'Exam_2', 'Admitted'])\n",
    "data.head()"
   ]
  },
  {
   "cell_type": "code",
   "execution_count": 3,
   "metadata": {
    "collapsed": true
   },
   "outputs": [],
   "source": [
    "def loadData(df):\n",
    "    ones = pd.DataFrame({'ones': np.ones(len(df))})\n",
    "    df = pd.concat([ones, df], axis=1)\n",
    "    X = df.iloc[:, :-1].values\n",
    "    y = df.iloc[:, -1].values.reshape(-1, 1)\n",
    "    return np.matrix(X), np.matrix(y)"
   ]
  },
  {
   "cell_type": "markdown",
   "metadata": {},
   "source": [
    "<font size=3>\n",
    "&emsp;&emsp;加载数据，并查看X, y的维度是否正确。\n",
    "</font>"
   ]
  },
  {
   "cell_type": "code",
   "execution_count": 4,
   "metadata": {
    "collapsed": false
   },
   "outputs": [
    {
     "data": {
      "text/plain": [
       "((100, 3), (100, 1))"
      ]
     },
     "execution_count": 4,
     "metadata": {},
     "output_type": "execute_result"
    }
   ],
   "source": [
    "X, y = loadData(data)\n",
    "X.shape, y.shape"
   ]
  },
  {
   "cell_type": "markdown",
   "metadata": {},
   "source": [
    "## 1.1 Visualizing the data"
   ]
  },
  {
   "cell_type": "markdown",
   "metadata": {},
   "source": [
    "<font size=3>\n",
    "&emsp;&emsp;Before starting to implement any learning algorithm, it is always good to visualize the data if possible.\n",
    "</font>"
   ]
  },
  {
   "cell_type": "code",
   "execution_count": 5,
   "metadata": {
    "collapsed": false
   },
   "outputs": [
    {
     "data": {
      "image/png": "[encoded data removed]",
      "text/plain": [
       "<matplotlib.figure.Figure at 0x7f0925925588>"
      ]
     },
     "metadata": {},
     "output_type": "display_data"
    }
   ],
   "source": [
    "positive = data[data['Admitted'] == 1]\n",
    "negative = data[data['Admitted'] == 0]\n",
    "\n",
    "plt.figure(figsize=(12, 8))\n",
    "plt.scatter(positive['Exam_1'], positive['Exam_2'], color='blue', marker='o', label='Admitted')\n",
    "plt.scatter(negative['Exam_1'], negative['Exam_2'], color='red', marker='x', label='Not Admitted')\n",
    "plt.legend()\n",
    "plt.xlabel('Exam_1 Score')\n",
    "plt.ylabel('Exam_2 Score')\n",
    "plt.show()"
   ]
  },
  {
   "cell_type": "markdown",
   "metadata": {},
   "source": [
    "## 1.2 Implementation"
   ]
  },
  {
   "cell_type": "markdown",
   "metadata": {},
   "source": [
    "### 1.2.1 Sigmoid function"
   ]
  },
  {
   "cell_type": "markdown",
   "metadata": {},
   "source": [
    "<font size=3>\n",
    "&emsp;&emsp;Before you start with the actual cost function, recall that the logistic regression hypothesis is defined as: **$$h_{\\theta}(x)=g({\\theta}^Tx)$$**\n",
    "</font>"
   ]
  },
  {
   "cell_type": "markdown",
   "metadata": {},
   "source": [
    "<font size=3>\n",
    "&emsp;&emsp;where function g is the sigmoid function. The sigmoid function is defined as: **$$g(z)=\\frac{1}{1+e^{-z}}$$**  \n",
    "</font>"
   ]
  },
  {
   "cell_type": "code",
   "execution_count": 6,
   "metadata": {
    "collapsed": true
   },
   "outputs": [],
   "source": [
    "def sigmoid(Z):\n",
    "    return 1 / (1 + np.exp(-Z))"
   ]
  },
  {
   "cell_type": "markdown",
   "metadata": {},
   "source": [
    "<font size=3>\n",
    "&emsp;&emsp;让我们做一个快速检查，确保它可以工作。\n",
    "</font>"
   ]
  },
  {
   "cell_type": "code",
   "execution_count": 7,
   "metadata": {
    "collapsed": false
   },
   "outputs": [
    {
     "data": {
      "image/png": "[encoded data removed]",
      "text/plain": [
       "<matplotlib.figure.Figure at 0x7f0925925b70>"
      ]
     },
     "metadata": {},
     "output_type": "display_data"
    }
   ],
   "source": [
    "nums = np.arange(-10, 10, step=1)\n",
    "\n",
    "plt.figure(figsize=(12, 8))\n",
    "plt.plot(nums, sigmoid(nums))\n",
    "plt.title('Sigmoid Function')\n",
    "plt.show()"
   ]
  },
  {
   "cell_type": "markdown",
   "metadata": {
    "collapsed": true
   },
   "source": [
    "### 1.2.3 Cost function and gradient"
   ]
  },
  {
   "cell_type": "markdown",
   "metadata": {
    "collapsed": true
   },
   "source": [
    "<font size=3>\n",
    "&emsp;&emsp;Now you will implement the cost function and gradient for logistic regression. Recall that the cost function in logistic regression is **$$J(\\theta)=\\frac{1}{m}\\sum_{i=1}^{m}[-y^{(i)}log(h_{\\theta}(x^{(i)}))-(1-y^{(i)})log(1-h_{\\theta}(x^{(i)}))]$$**\n",
    "</font>"
   ]
  },
  {
   "cell_type": "markdown",
   "metadata": {
    "collapsed": true
   },
   "source": [
    "<font size=3>\n",
    "&emsp;&emsp;and the gradient of the cost is a vector of the same length as ${\\theta}$ where the $j^{th}$ element *(for j = 0,1,...,n)* is defined as follows: **$$\\frac{{\\partial}J(\\theta)}{\\partial{\\theta}_j}=\\frac{1}{m}\\sum^{m}_{i=1}(h_{\\theta}(x^{(i)})-y^{(i)})x^{(i)}_j$$**\n",
    "</font>"
   ]
  },
  {
   "cell_type": "markdown",
   "metadata": {
    "collapsed": true
   },
   "source": [
    "<font size=3>\n",
    "&emsp;&emsp;Note that while this gradient looks identical to the linear regression gradient, the formula is actually different because linear and logistic have different definitions of $h_{\\theta}(x)$.\n",
    "</font>"
   ]
  },
  {
   "cell_type": "code",
   "execution_count": 8,
   "metadata": {
    "collapsed": true
   },
   "outputs": [],
   "source": [
    "# 初始化theta为零\n",
    "def initializeWithZeros(dim):\n",
    "    return np.zeros(dim)"
   ]
  },
  {
   "cell_type": "code",
   "execution_count": 9,
   "metadata": {
    "collapsed": false
   },
   "outputs": [],
   "source": [
    "def computeCost(X, y, theta):\n",
    "    first = np.multiply(-y, np.log(sigmoid(X @ theta)))\n",
    "    second = np.multiply(1 - y, np.log(1-sigmoid(X @ theta)))\n",
    "    return np.mean(first - second)"
   ]
  },
  {
   "cell_type": "code",
   "execution_count": 10,
   "metadata": {
    "collapsed": false
   },
   "outputs": [
    {
     "data": {
      "text/plain": [
       "0.69314718055994529"
      ]
     },
     "execution_count": 10,
     "metadata": {},
     "output_type": "execute_result"
    }
   ],
   "source": [
    "# 正确答案为0.693\n",
    "theta = initializeWithZeros(X.shape[1])\n",
    "cost = computeCost(X, y, theta)\n",
    "cost"
   ]
  },
  {
   "cell_type": "markdown",
   "metadata": {},
   "source": [
    "### 1.2.4 使用梯度下降法寻找最优参数"
   ]
  },
  {
   "cell_type": "code",
   "execution_count": 11,
   "metadata": {
    "collapsed": true
   },
   "outputs": [],
   "source": [
    "def batchGradientDecent(X, y, theta, alpha, iters):\n",
    "    \n",
    "    m = X.shape[0]\n",
    "    cost = np.zeros(iters)\n",
    "    \n",
    "    for i in range(iters):\n",
    "        gradient = np.dot(X.T, sigmoid(X @ theta) - y) / m\n",
    "        theta = theta - alpha * gradient\n",
    "        \n",
    "        cost[i] = computeCost(X, y, theta)\n",
    "        \n",
    "        if i % 50000 == 0:\n",
    "            print('第{iters}轮:{cost}'.format(iters=i, cost=cost[i]))\n",
    "            \n",
    "    return theta, cost"
   ]
  },
  {
   "cell_type": "code",
   "execution_count": 12,
   "metadata": {
    "collapsed": false
   },
   "outputs": [
    {
     "name": "stdout",
     "output_type": "stream",
     "text": [
      "第0轮:0.6928764038075428\n",
      "第50000轮:0.6295780590780752\n",
      "第100000轮:0.6293338830821339\n",
      "第150000轮:0.6290905746767632\n",
      "第200000轮:0.6288474761373234\n",
      "第250000轮:0.6286045870699931\n",
      "第300000轮:0.6283619073006185\n",
      "第350000轮:0.628119436655143\n",
      "第400000轮:0.6278771749595334\n",
      "第450000轮:0.6276351220397811\n"
     ]
    }
   ],
   "source": [
    "X, y = loadData(data)\n",
    "alpha = 0.000001\n",
    "iters = 500000\n",
    "theta = initializeWithZeros(X.shape[1])\n",
    "theta1, cost1 = batchGradientDecent(X, y, theta, alpha, iters)"
   ]
  },
  {
   "cell_type": "code",
   "execution_count": 13,
   "metadata": {
    "collapsed": false
   },
   "outputs": [],
   "source": [
    "# 对数据进行标准化处理\n",
    "X, y = loadData(data)\n",
    "X[:,1:3] -= X[:,1:3].mean(axis=0)\n",
    "X[:,1:3] /= X[:,1:3].std(axis=0)"
   ]
  },
  {
   "cell_type": "code",
   "execution_count": 14,
   "metadata": {
    "collapsed": false
   },
   "outputs": [
    {
     "name": "stdout",
     "output_type": "stream",
     "text": [
      "第0轮:0.6916282011267486\n",
      "第50000轮:0.20352911584883715\n",
      "第100000轮:0.2034977922166995\n",
      "第150000轮:0.2034977018657916\n"
     ]
    }
   ],
   "source": [
    "alpha = 0.01\n",
    "iters = 200000\n",
    "theta = initializeWithZeros(X.shape[1])\n",
    "theta2, cost2 = batchGradientDecent(X, y, theta, alpha, iters)"
   ]
  },
  {
   "cell_type": "markdown",
   "metadata": {},
   "source": [
    "<font size=3>\n",
    "&emsp;&emsp;在没有对数据进行标准化的情况下，进行梯度下降的效果是非常差的，损失函数的收敛速度十分的慢。同时，学习速率 $\\alpha$ 的值要取得非常小，否则，损失函数的波动十分明显，迭代次数也因此非常大。最后，损失函数的值为0.62。  \n",
    "&emsp;&emsp;在对数据进行标准化之后，损失函数的收敛速度十分快。最终，损失函数的值为0.20，改善效果十分明显。因此，在使用梯度下降法求解损失函数最小值时，对数据进行标准化十分重要。\n",
    "</font>"
   ]
  },
  {
   "cell_type": "markdown",
   "metadata": {
    "collapsed": true
   },
   "source": [
    "牛顿法网址\n",
    "https://blog.csdn.net/itplus/article/details/21896453"
   ]
  },
  {
   "cell_type": "markdown",
   "metadata": {},
   "source": [
    "# 2. Regularized logistic regression"
   ]
  },
  {
   "cell_type": "markdown",
   "metadata": {
    "collapsed": true
   },
   "source": [
    "<font size=3>\n",
    "&emsp;&emsp;In this part of the exercise, you will implement regularized logistic regression to predict whether microchips from a fabrication plant passes quality assurance (QA). During QA, each microchip goes through various tests to ensure it is functioning correctly.  \n",
    "&emsp;&emsp;Suppose you are the product manager of the factory and you have the test results for some microchips on two different tests. From these two tests, you would like to determine whether the microchips should be accepted or rejected. To help you make decision, you have a dataset of test results on past microchips, from which you can build a logistic regression model.  \n",
    "</font>"
   ]
  },
  {
   "cell_type": "markdown",
   "metadata": {},
   "source": [
    "## 2.1 Visualizing the data"
   ]
  },
  {
   "cell_type": "markdown",
   "metadata": {},
   "source": [
    "<font size=3>\n",
    "&emsp;&emsp;首先，对数据进行可视化。\n",
    "</font>"
   ]
  },
  {
   "cell_type": "code",
   "execution_count": 125,
   "metadata": {
    "collapsed": false
   },
   "outputs": [
    {
     "data": {
      "text/html": [
       "<div>\n",
       "<table border=\"1\" class=\"dataframe\">\n",
       "  <thead>\n",
       "    <tr style=\"text-align: right;\">\n",
       "      <th></th>\n",
       "      <th>Test_1</th>\n",
       "      <th>Test_2</th>\n",
       "      <th>Accepted</th>\n",
       "    </tr>\n",
       "  </thead>\n",
       "  <tbody>\n",
       "    <tr>\n",
       "      <th>0</th>\n",
       "      <td>0.051267</td>\n",
       "      <td>0.69956</td>\n",
       "      <td>1</td>\n",
       "    </tr>\n",
       "    <tr>\n",
       "      <th>1</th>\n",
       "      <td>-0.092742</td>\n",
       "      <td>0.68494</td>\n",
       "      <td>1</td>\n",
       "    </tr>\n",
       "    <tr>\n",
       "      <th>2</th>\n",
       "      <td>-0.213710</td>\n",
       "      <td>0.69225</td>\n",
       "      <td>1</td>\n",
       "    </tr>\n",
       "    <tr>\n",
       "      <th>3</th>\n",
       "      <td>-0.375000</td>\n",
       "      <td>0.50219</td>\n",
       "      <td>1</td>\n",
       "    </tr>\n",
       "    <tr>\n",
       "      <th>4</th>\n",
       "      <td>-0.513250</td>\n",
       "      <td>0.46564</td>\n",
       "      <td>1</td>\n",
       "    </tr>\n",
       "  </tbody>\n",
       "</table>\n",
       "</div>"
      ],
      "text/plain": [
       "     Test_1   Test_2  Accepted\n",
       "0  0.051267  0.69956         1\n",
       "1 -0.092742  0.68494         1\n",
       "2 -0.213710  0.69225         1\n",
       "3 -0.375000  0.50219         1\n",
       "4 -0.513250  0.46564         1"
      ]
     },
     "execution_count": 125,
     "metadata": {},
     "output_type": "execute_result"
    }
   ],
   "source": [
    "data = pd.read_csv('ex2data2.txt', names=['Test_1', 'Test_2', 'Accepted'])\n",
    "data.head()"
   ]
  },
  {
   "cell_type": "code",
   "execution_count": 126,
   "metadata": {
    "collapsed": false
   },
   "outputs": [
    {
     "data": {
      "image/png": "[encoded data removed]",
      "text/plain": [
       "<matplotlib.figure.Figure at 0x7f092254db70>"
      ]
     },
     "metadata": {},
     "output_type": "display_data"
    }
   ],
   "source": [
    "positive = data[data['Accepted'] == 1]\n",
    "negative = data[data['Accepted'] == 0]\n",
    "\n",
    "plt.figure(figsize=(12, 8))\n",
    "plt.scatter(positive['Test_1'], positive['Test_2'], color='blue', marker='o', label='Accepted')\n",
    "plt.scatter(negative['Test_1'], negative['Test_2'], color='red', marker='x', label='Rejected')\n",
    "plt.legend()\n",
    "plt.xlabel('Test_1 Score')\n",
    "plt.ylabel('Test_2 Score')\n",
    "plt.show()"
   ]
  },
  {
   "cell_type": "markdown",
   "metadata": {},
   "source": [
    "<font size=3>\n",
    "&emsp;&emsp;This figure shows that our dataset cannot be separated into positive and negative examples by a straight-line through the plot. Therefore, a straight-forward application of logistic regresion will not perform well on this dataset since logistic regression will only be able to find a linear decision boundary.\n",
    "</font>"
   ]
  },
  {
   "cell_type": "markdown",
   "metadata": {},
   "source": [
    "## 2.2 Feature mapping"
   ]
  },
  {
   "cell_type": "markdown",
   "metadata": {},
   "source": [
    "<font size=3>\n",
    "&emsp;&emsp;One way to fit the data better is to create more features from each data point. Now, we will map the features into all polynomial terms of $x_1$ and $x_2$ up to the sixth power.\n",
    "</font>"
   ]
  },
  {
   "cell_type": "markdown",
   "metadata": {
    "collapsed": true
   },
   "source": [
    "<font size=3>\n",
    "**$$mapFeature(x)=\\begin{bmatrix} 1 \\\\ x_1 \\\\ x_2 \\\\ x^2_1 \\\\ x_1x_2 \\\\ x^2_2 \\\\ x^3_1 \\\\ ... \\\\ x_1x^5_2 \\\\ x^6_2 \\end{bmatrix}$$**\n",
    "</font>"
   ]
  },
  {
   "cell_type": "code",
   "execution_count": 127,
   "metadata": {
    "collapsed": true
   },
   "outputs": [],
   "source": [
    "def featureMapping(x1, x2, power, as_ndarray=False):\n",
    "    \n",
    "    data = {\"{}{}\".format(i - p, p): np.power(x1, i - p) * np.power(x2, p)\n",
    "                for i in range(power + 1)\n",
    "                for p in range(i + 1)\n",
    "           }\n",
    "    \n",
    "    if as_ndarray:\n",
    "        return pd.DataFrame(data).as_matrix()\n",
    "    else:\n",
    "        return pd.DataFrame(data)"
   ]
  },
  {
   "cell_type": "code",
   "execution_count": 128,
   "metadata": {
    "collapsed": false
   },
   "outputs": [],
   "source": [
    "x1 = np.array(data.Test_1)\n",
    "x2 = np.array(data.Test_2)"
   ]
  },
  {
   "cell_type": "code",
   "execution_count": 129,
   "metadata": {
    "collapsed": false
   },
   "outputs": [
    {
     "data": {
      "text/html": [
       "<div>\n",
       "<table border=\"1\" class=\"dataframe\">\n",
       "  <thead>\n",
       "    <tr style=\"text-align: right;\">\n",
       "      <th></th>\n",
       "      <th>00</th>\n",
       "      <th>01</th>\n",
       "      <th>02</th>\n",
       "      <th>03</th>\n",
       "      <th>04</th>\n",
       "      <th>05</th>\n",
       "      <th>06</th>\n",
       "      <th>10</th>\n",
       "      <th>11</th>\n",
       "      <th>12</th>\n",
       "      <th>...</th>\n",
       "      <th>30</th>\n",
       "      <th>31</th>\n",
       "      <th>32</th>\n",
       "      <th>33</th>\n",
       "      <th>40</th>\n",
       "      <th>41</th>\n",
       "      <th>42</th>\n",
       "      <th>50</th>\n",
       "      <th>51</th>\n",
       "      <th>60</th>\n",
       "    </tr>\n",
       "  </thead>\n",
       "  <tbody>\n",
       "    <tr>\n",
       "      <th>0</th>\n",
       "      <td>1.0</td>\n",
       "      <td>0.69956</td>\n",
       "      <td>0.489384</td>\n",
       "      <td>0.342354</td>\n",
       "      <td>0.239497</td>\n",
       "      <td>0.167542</td>\n",
       "      <td>0.117206</td>\n",
       "      <td>0.051267</td>\n",
       "      <td>0.035864</td>\n",
       "      <td>0.025089</td>\n",
       "      <td>...</td>\n",
       "      <td>0.000135</td>\n",
       "      <td>0.000094</td>\n",
       "      <td>0.000066</td>\n",
       "      <td>0.000046</td>\n",
       "      <td>0.000007</td>\n",
       "      <td>0.000005</td>\n",
       "      <td>0.000003</td>\n",
       "      <td>3.541519e-07</td>\n",
       "      <td>2.477505e-07</td>\n",
       "      <td>1.815630e-08</td>\n",
       "    </tr>\n",
       "    <tr>\n",
       "      <th>1</th>\n",
       "      <td>1.0</td>\n",
       "      <td>0.68494</td>\n",
       "      <td>0.469143</td>\n",
       "      <td>0.321335</td>\n",
       "      <td>0.220095</td>\n",
       "      <td>0.150752</td>\n",
       "      <td>0.103256</td>\n",
       "      <td>-0.092742</td>\n",
       "      <td>-0.063523</td>\n",
       "      <td>-0.043509</td>\n",
       "      <td>...</td>\n",
       "      <td>-0.000798</td>\n",
       "      <td>-0.000546</td>\n",
       "      <td>-0.000374</td>\n",
       "      <td>-0.000256</td>\n",
       "      <td>0.000074</td>\n",
       "      <td>0.000051</td>\n",
       "      <td>0.000035</td>\n",
       "      <td>-6.860919e-06</td>\n",
       "      <td>-4.699318e-06</td>\n",
       "      <td>6.362953e-07</td>\n",
       "    </tr>\n",
       "    <tr>\n",
       "      <th>2</th>\n",
       "      <td>1.0</td>\n",
       "      <td>0.69225</td>\n",
       "      <td>0.479210</td>\n",
       "      <td>0.331733</td>\n",
       "      <td>0.229642</td>\n",
       "      <td>0.158970</td>\n",
       "      <td>0.110047</td>\n",
       "      <td>-0.213710</td>\n",
       "      <td>-0.147941</td>\n",
       "      <td>-0.102412</td>\n",
       "      <td>...</td>\n",
       "      <td>-0.009761</td>\n",
       "      <td>-0.006757</td>\n",
       "      <td>-0.004677</td>\n",
       "      <td>-0.003238</td>\n",
       "      <td>0.002086</td>\n",
       "      <td>0.001444</td>\n",
       "      <td>0.001000</td>\n",
       "      <td>-4.457837e-04</td>\n",
       "      <td>-3.085938e-04</td>\n",
       "      <td>9.526844e-05</td>\n",
       "    </tr>\n",
       "    <tr>\n",
       "      <th>3</th>\n",
       "      <td>1.0</td>\n",
       "      <td>0.50219</td>\n",
       "      <td>0.252195</td>\n",
       "      <td>0.126650</td>\n",
       "      <td>0.063602</td>\n",
       "      <td>0.031940</td>\n",
       "      <td>0.016040</td>\n",
       "      <td>-0.375000</td>\n",
       "      <td>-0.188321</td>\n",
       "      <td>-0.094573</td>\n",
       "      <td>...</td>\n",
       "      <td>-0.052734</td>\n",
       "      <td>-0.026483</td>\n",
       "      <td>-0.013299</td>\n",
       "      <td>-0.006679</td>\n",
       "      <td>0.019775</td>\n",
       "      <td>0.009931</td>\n",
       "      <td>0.004987</td>\n",
       "      <td>-7.415771e-03</td>\n",
       "      <td>-3.724126e-03</td>\n",
       "      <td>2.780914e-03</td>\n",
       "    </tr>\n",
       "    <tr>\n",
       "      <th>4</th>\n",
       "      <td>1.0</td>\n",
       "      <td>0.46564</td>\n",
       "      <td>0.216821</td>\n",
       "      <td>0.100960</td>\n",
       "      <td>0.047011</td>\n",
       "      <td>0.021890</td>\n",
       "      <td>0.010193</td>\n",
       "      <td>-0.513250</td>\n",
       "      <td>-0.238990</td>\n",
       "      <td>-0.111283</td>\n",
       "      <td>...</td>\n",
       "      <td>-0.135203</td>\n",
       "      <td>-0.062956</td>\n",
       "      <td>-0.029315</td>\n",
       "      <td>-0.013650</td>\n",
       "      <td>0.069393</td>\n",
       "      <td>0.032312</td>\n",
       "      <td>0.015046</td>\n",
       "      <td>-3.561597e-02</td>\n",
       "      <td>-1.658422e-02</td>\n",
       "      <td>1.827990e-02</td>\n",
       "    </tr>\n",
       "  </tbody>\n",
       "</table>\n",
       "<p>5 rows × 28 columns</p>\n",
       "</div>"
      ],
      "text/plain": [
       "    00       01        02        03        04        05        06        10  \\\n",
       "0  1.0  0.69956  0.489384  0.342354  0.239497  0.167542  0.117206  0.051267   \n",
       "1  1.0  0.68494  0.469143  0.321335  0.220095  0.150752  0.103256 -0.092742   \n",
       "2  1.0  0.69225  0.479210  0.331733  0.229642  0.158970  0.110047 -0.213710   \n",
       "3  1.0  0.50219  0.252195  0.126650  0.063602  0.031940  0.016040 -0.375000   \n",
       "4  1.0  0.46564  0.216821  0.100960  0.047011  0.021890  0.010193 -0.513250   \n",
       "\n",
       "         11        12      ...             30        31        32        33  \\\n",
       "0  0.035864  0.025089      ...       0.000135  0.000094  0.000066  0.000046   \n",
       "1 -0.063523 -0.043509      ...      -0.000798 -0.000546 -0.000374 -0.000256   \n",
       "2 -0.147941 -0.102412      ...      -0.009761 -0.006757 -0.004677 -0.003238   \n",
       "3 -0.188321 -0.094573      ...      -0.052734 -0.026483 -0.013299 -0.006679   \n",
       "4 -0.238990 -0.111283      ...      -0.135203 -0.062956 -0.029315 -0.013650   \n",
       "\n",
       "         40        41        42            50            51            60  \n",
       "0  0.000007  0.000005  0.000003  3.541519e-07  2.477505e-07  1.815630e-08  \n",
       "1  0.000074  0.000051  0.000035 -6.860919e-06 -4.699318e-06  6.362953e-07  \n",
       "2  0.002086  0.001444  0.001000 -4.457837e-04 -3.085938e-04  9.526844e-05  \n",
       "3  0.019775  0.009931  0.004987 -7.415771e-03 -3.724126e-03  2.780914e-03  \n",
       "4  0.069393  0.032312  0.015046 -3.561597e-02 -1.658422e-02  1.827990e-02  \n",
       "\n",
       "[5 rows x 28 columns]"
      ]
     },
     "execution_count": 129,
     "metadata": {},
     "output_type": "execute_result"
    }
   ],
   "source": [
    "X = featureMapping(x1, x2, 6)\n",
    "X.head()"
   ]
  },
  {
   "cell_type": "markdown",
   "metadata": {
    "collapsed": true
   },
   "source": [
    "<font size=3>\n",
    "&emsp;&emsp;As a result of this mapping, our vector of two features (the scores on two QA tests) has been transformed into 28-dimensional vector. A logistic regression classifier trained on this higher-dimension feature vector will have a more complex decision boundary and will appear nonlinear when drawn in our 2-dimensional plot.  \n",
    "&emsp;&emsp;While the feature mapping allows us to build a more expressive classifier, it also more susceptible to overfitting. In the next parts of the exercise, you will implement regularized logistic regression to fit the data and also see for yourself how regularization can help combat the overfitting problem.\n",
    "</font>"
   ]
  },
  {
   "cell_type": "markdown",
   "metadata": {
    "collapsed": true
   },
   "source": [
    "## 2.3 Cost function and gradient"
   ]
  },
  {
   "cell_type": "markdown",
   "metadata": {
    "collapsed": true
   },
   "source": [
    "<font size=3>\n",
    "&emsp;&emsp;Now you will implement code to compute the cost function and gradient for regularized logistic regression.  \n",
    "&emsp;&emsp;Recall that the regularized cost function in logistic regression is **$$J(\\theta)=\\frac{1}{m}\\sum^m_{i=1}\\left[-y^{(i)}log(h_{\\theta}(x^{(i)}))-(1-y^{(i)})log(1-h_{\\theta}(x^{(i)}))\\right]+\\frac{\\lambda}{2m}\\sum^m_{j=1}{\\theta}^2_j$$**\n",
    "</font>"
   ]
  },
  {
   "cell_type": "markdown",
   "metadata": {
    "collapsed": true
   },
   "source": [
    "<font size=3>\n",
    "&emsp;&emsp;Note that you should not regularize the parameter $\\theta_0$.\n",
    "</font>"
   ]
  },
  {
   "cell_type": "code",
   "execution_count": 130,
   "metadata": {
    "collapsed": true
   },
   "outputs": [],
   "source": [
    "def computeRegularizedCost(theta, X, y, l):\n",
    "    \n",
    "    m = X.shape[0]\n",
    "    theta_j1_to_n = theta[1:]\n",
    "    \n",
    "    first = np.multiply(-y, np.log(sigmoid(X @ theta)))\n",
    "    second = np.multiply(1-y, np.log(1-sigmoid(X @ theta)))\n",
    "    regularizedTerm = (l / (2*m)) * np.power(theta_j1_to_n, 2).sum()\n",
    "    \n",
    "    return np.mean(first - second) + regularizedTerm"
   ]
  },
  {
   "cell_type": "code",
   "execution_count": 131,
   "metadata": {
    "collapsed": false
   },
   "outputs": [],
   "source": [
    "# 参数初始化以及数据预处理\n",
    "theta = initializeWithZeros(X.shape[1])\n",
    "X = featureMapping(x1, x2, 6, as_ndarray=True)\n",
    "y = data.iloc[:, -1].as_matrix()"
   ]
  },
  {
   "cell_type": "code",
   "execution_count": 132,
   "metadata": {
    "collapsed": false
   },
   "outputs": [
    {
     "data": {
      "text/plain": [
       "0.6931471805599454"
      ]
     },
     "execution_count": 132,
     "metadata": {},
     "output_type": "execute_result"
    }
   ],
   "source": [
    "# 正确答案为 0.693\n",
    "cost = computeRegularizedCost(theta, X, y, 1)\n",
    "cost"
   ]
  },
  {
   "cell_type": "markdown",
   "metadata": {
    "collapsed": true
   },
   "source": [
    "<font size=3>\n",
    "&emsp;&emsp;The gradient of the cost function is a vector where the $j^{th}$ element is defined as follows: **$$\\frac{{\\partial}J(\\theta)}{\\partial\\theta_0}=\\frac{1}{m}\\sum^m_{i=1}(h_{\\theta}(x^{(i)})-y^{(i)})x^{(i)}_j\\qquad for\\,j=0$$**  \n",
    "**$$\\frac{{\\partial}J(\\theta)}{\\partial\\theta_j}=\\left(\\frac{1}{m}\\sum^m_{i=1}(h_{\\theta}(x^{(i)})-y^{(i)})x^{(i)}_j\\right)+\\frac{\\lambda}{m}\\theta_j\\qquad for\\,j\\geq1$$**\n",
    "</font>"
   ]
  },
  {
   "cell_type": "code",
   "execution_count": 133,
   "metadata": {
    "collapsed": false
   },
   "outputs": [],
   "source": [
    "def regularizedGradient(theta, X, y, l):\n",
    "    \n",
    "    m = X.shape[0]\n",
    "    theta_j1_to_n = theta[1:]\n",
    "    \n",
    "    grad = np.dot(X.T, sigmoid(X @ theta) - y) / m\n",
    "    regularizedTheta = (l / m) * theta_j1_to_n\n",
    "    \n",
    "    regularizedTerm = np.concatenate([np.array([0]), regularizedTheta])\n",
    "    \n",
    "    return grad + regularizedTerm"
   ]
  },
  {
   "cell_type": "code",
   "execution_count": 134,
   "metadata": {
    "collapsed": true
   },
   "outputs": [],
   "source": [
    "def batchGradientDescent(X, y, theta, alpha, iters, l, printFlag=True):\n",
    "    \n",
    "    cost = np.zeros(iters)\n",
    "    \n",
    "    for i in range(iters):\n",
    "        theta = theta - alpha * regularizedGradient(theta, X, y, l)\n",
    "        cost[i] = computeRegularizedCost(theta, X, y, l)\n",
    "        \n",
    "        if printFlag and i % 500 == 0:\n",
    "            print('第{iters}轮:{cost}'.format(iters=i, cost=cost[i]))\n",
    "    \n",
    "    return theta, cost"
   ]
  },
  {
   "cell_type": "code",
   "execution_count": 186,
   "metadata": {
    "collapsed": false
   },
   "outputs": [
    {
     "name": "stdout",
     "output_type": "stream",
     "text": [
      "第0轮:0.689392100814767\n",
      "第500轮:0.5303383613168465\n",
      "第1000轮:0.5290349118070177\n",
      "第1500轮:0.5290039786047559\n",
      "第2000轮:0.5290027945476369\n",
      "第2500轮:0.5290027336043155\n",
      "第3000轮:0.5290027299629998\n",
      "第3500轮:0.5290027297293425\n",
      "第4000轮:0.5290027297137846\n",
      "第4500轮:0.5290027297127253\n"
     ]
    }
   ],
   "source": [
    "alpha= 0.3\n",
    "iters = 5000\n",
    "l=1\n",
    "theta = initializeWithZeros(X.shape[1])\n",
    "theta, cost = batchGradientDescent(X, y, theta, alpha, iters, l)"
   ]
  },
  {
   "cell_type": "markdown",
   "metadata": {},
   "source": [
    "## 2.4 Plotting the decision boundary"
   ]
  },
  {
   "cell_type": "markdown",
   "metadata": {
    "collapsed": true
   },
   "source": [
    "<font size=3>\n",
    "&emsp;&emsp;决策边界的方程为 $\\theta^TX=0$ 的超平面。因此，需要找到所有满足该方程的x。\n",
    "&emsp;&emsp;Instead of solving polynomial equation, just create a coridate x, y grid that is dense enough, and find all those $\\theta^TX$ that is close enough to 0, then plot them.\n",
    "</font>"
   ]
  },
  {
   "cell_type": "code",
   "execution_count": 174,
   "metadata": {
    "collapsed": false
   },
   "outputs": [],
   "source": [
    "def findDecisionBoundary(density, power, theta, threshold):\n",
    "    \n",
    "    t1 = np.linspace(-1, 1.5, density)\n",
    "    t2 = np.linspace(-1, 1.5, density)\n",
    "\n",
    "    coordinates = [(x, y) for x in t1 for y in t2]\n",
    "    x_cord, y_cord = zip(*coordinates)\n",
    "    mappedCord = featureMapping(x_cord, y_cord, power)\n",
    "    \n",
    "    innerProduct = mappedCord.as_matrix() @ theta\n",
    "\n",
    "    decision = mappedCord[np.abs(innerProduct) < threshold]\n",
    "    \n",
    "    return decision['10'], decision['01']"
   ]
  },
  {
   "cell_type": "code",
   "execution_count": 180,
   "metadata": {
    "collapsed": true
   },
   "outputs": [],
   "source": [
    "def featureMappedLogisticRegression(power, l, alpha, iters):\n",
    "    \n",
    "    data = pd.read_csv('ex2data2.txt', names=['Test_1', 'Test_2', 'Accepted'])\n",
    "    x1 = np.array(data.Test_1)\n",
    "    x2 = np.array(data.Test_2)\n",
    "    X = featureMapping(x1, x2, power, as_ndarray=True)\n",
    "    y = data.iloc[:, -1].as_matrix()\n",
    "    \n",
    "    theta = initializeWithZeros(X.shape[1])\n",
    "    \n",
    "    theta, cost = batchGradientDescent(X, y, theta, alpha, iters, l, printFlag=False)\n",
    "    \n",
    "    print('The cost is {}:'.format(computeRegularizedCost(theta, X, y, l)))\n",
    "    \n",
    "    return theta"
   ]
  },
  {
   "cell_type": "code",
   "execution_count": 181,
   "metadata": {
    "collapsed": true
   },
   "outputs": [],
   "source": [
    "def drawDecisionBoundary(power, l, alpha=0.3, iters=5000):\n",
    "    \n",
    "    density = 1000\n",
    "    threshold = 2 *10 ** -3\n",
    "    \n",
    "    theta = featureMappedLogisticRegression(power, l, alpha, iters)\n",
    "    x, y = findDecisionBoundary(density, power, theta, threshold)\n",
    "    \n",
    "    data = pd.read_csv('ex2data2.txt', names=['Test_1', 'Test_2', 'Accepted'])\n",
    "    plt.figure(figsize=(12, 8))\n",
    "    sns.lmplot('Test_1', 'Test_2', hue='Accepted', data=data, size=6, fit_reg=False, scatter_kws={\"s\": 100})\n",
    "    plt.scatter(x, y, c='R', s=10)\n",
    "    plt.title('Decision boundary')\n",
    "    plt.show()"
   ]
  },
  {
   "cell_type": "code",
   "execution_count": 182,
   "metadata": {
    "collapsed": false
   },
   "outputs": [
    {
     "name": "stdout",
     "output_type": "stream",
     "text": [
      "The cost is 0.529002729712652:\n"
     ]
    },
    {
     "data": {
      "text/plain": [
       "<matplotlib.figure.Figure at 0x7f09225774e0>"
      ]
     },
     "metadata": {},
     "output_type": "display_data"
    },
    {
     "data": {
      "image/png": "[encoded data removed]",
      "text/plain": [
       "<matplotlib.figure.Figure at 0x7f0922316748>"
      ]
     },
     "metadata": {},
     "output_type": "display_data"
    }
   ],
   "source": [
    "drawDecisionBoundary(power=6, l=1)"
   ]
  },
  {
   "cell_type": "code",
   "execution_count": 188,
   "metadata": {
    "collapsed": false
   },
   "outputs": [
    {
     "name": "stdout",
     "output_type": "stream",
     "text": [
      "The cost is 0.25380047604665046:\n"
     ]
    },
    {
     "data": {
      "text/plain": [
       "<matplotlib.figure.Figure at 0x7f09221cf7f0>"
      ]
     },
     "metadata": {},
     "output_type": "display_data"
    },
    {
     "data": {
      "image/png": "[encoded data removed]",
      "text/plain": [
       "<matplotlib.figure.Figure at 0x7f09225846a0>"
      ]
     },
     "metadata": {},
     "output_type": "display_data"
    }
   ],
   "source": [
    "# 这里感觉有点不合理，我为了展示过拟合的效果，提高了power, alpha以及iters\n",
    "# no regularization, overfitting\n",
    "# lambda=0, 没有正则化\n",
    "drawDecisionBoundary(power=10, l=0, alpha=15, iters=100000)"
   ]
  },
  {
   "cell_type": "code",
   "execution_count": 187,
   "metadata": {
    "collapsed": false
   },
   "outputs": [
    {
     "name": "stdout",
     "output_type": "stream",
     "text": [
      "The cost is 0.6864838338726167:\n"
     ]
    },
    {
     "data": {
      "text/plain": [
       "<matplotlib.figure.Figure at 0x7f092216ee48>"
      ]
     },
     "metadata": {},
     "output_type": "display_data"
    },
    {
     "data": {
      "image/png": "[encoded data removed]",
      "text/plain": [
       "<matplotlib.figure.Figure at 0x7f09224d7748>"
      ]
     },
     "metadata": {},
     "output_type": "display_data"
    }
   ],
   "source": [
    "# too much regularization, underfitting\n",
    "# lambda=100, 欠拟合\n",
    "drawDecisionBoundary(power=6, l=100)"
   ]
  },
  {
   "cell_type": "markdown",
   "metadata": {
    "collapsed": true
   },
   "source": [
    "<font size=3>\n",
    "&emsp;&emsp;Notice the changes in the decision boundary as you vary $\\lambda$. With a small $\\lambda$, you will find that the classifier gets almost every training example correct, but draws a very complicated boundary, thus overfitting the data.  \n",
    "&emsp;&emsp;With a larger $\\lambda$, you will see a plot that shows an simpler decision boundary which still separates the positive and negatives fairly well. However, if $\\lambda$ is set too high a value, you will not get a good fit and the decision boundary will not follow the data so well, thus underfitting the data.\n",
    "</font>"
   ]
  },
  {
   "cell_type": "code",
   "execution_count": null,
   "metadata": {
    "collapsed": true
   },
   "outputs": [],
   "source": []
  }
 ],
 "metadata": {
  "kernelspec": {
   "display_name": "Python 3",
   "language": "python",
   "name": "python3"
  },
  "language_info": {
   "codemirror_mode": {
    "name": "ipython",
    "version": 3
   },
   "file_extension": ".py",
   "mimetype": "text/x-python",
   "name": "python",
   "nbconvert_exporter": "python",
   "pygments_lexer": "ipython3",
   "version": "3.6.0"
  }
 },
 "nbformat": 4,
 "nbformat_minor": 2
}
